{
 "cells": [
  {
   "cell_type": "markdown",
   "metadata": {},
   "source": [
    "# EQRW: Equational Rewriting\n",
    "\n",
    "EQRW is a library to create and manipulate equational proofs. You define terms and equations and ask EQRW to show certain terms are equal by applying (some of) the equations.\n",
    "\n",
    "For example, a text version of an equational proof of `x * 1 = x` could look like this:\n",
    "\n",
    "    x * 1\n",
    "    == { arithmetic }\n",
    "    x\n",
    "\n",
    "The proof is very simple, since more or less everybody know from school that multiplying something by 1 does not change it. I have called the  justification of the step \"arithmetic\".\n",
    "\n",
    "This proof can be written in EQRW as:\n",
    "\n",
    "    p = Proof(x * 1, x)  # create a Proof tp show that `x * 1` is equal to `x`.\n",
    "    p += x               # add a proof step using built-in rules of EQRW.\n",
    "\n",
    "Now, proof `p` has one step which takes the *lhs* (left hand side) `x * 1` and shows it equals the *rhs* (right hand side) `x`. The proof can be printed:\n",
    "\n",
    "    print(p)\n",
    "    Theorem: x * 1 = x\n",
    "    Proof:\n",
    "       x * 1\n",
    "    ==   \n",
    "       x\n",
    "\n",
    "Note that this proof is similar to the manual proof above.\n",
    "\n",
    "EQRW uses the *z3* SMT library as a backend. That means EQRM's idea of \"simple\" steps in a proof is anything that *z3* can proof using *z3*-built-in rules only.\n",
    "\n",
    "Equational proofs are usually more interesting if user-defined equations are needed. Here follows an example."
   ]
  },
  {
   "cell_type": "code",
   "execution_count": 1,
   "metadata": {},
   "outputs": [],
   "source": [
    "from z3 import *\n",
    "from eqrw import *"
   ]
  },
  {
   "cell_type": "code",
   "execution_count": 10,
   "metadata": {},
   "outputs": [
    {
     "name": "stdout",
     "output_type": "stream",
     "text": [
      "Theorem: j == 42\n",
      "Proof:\n",
      "   j\n",
      "== [j == 7*i]\n",
      "   7*i\n",
      "== [i == 6]\n",
      "   42\n"
     ]
    }
   ],
   "source": [
    "i, j = Ints('i j')\n",
    "p = Proof(j, 42)\n",
    "p += 7 * i,             j == 7 * i\n",
    "p += 42,                i == 6\n",
    "print(p)"
   ]
  },
  {
   "cell_type": "markdown",
   "metadata": {},
   "source": [
    "Note that the intermediate result `7*6`, which results from applying `i == 6` to `7*i` is not shown. It has been automatically rewritten by (*z3*'s) built-in rules."
   ]
  },
  {
   "cell_type": "code",
   "execution_count": 6,
   "metadata": {},
   "outputs": [],
   "source": [
    "\n",
    "x = Int('x')\n",
    "\n",
    "p = Proof(x * 1, x)"
   ]
  },
  {
   "cell_type": "code",
   "execution_count": 2,
   "metadata": {},
   "outputs": [
    {
     "name": "stdout",
     "output_type": "stream",
     "text": [
      "   x*1\n",
      "?? incomplete proof\n",
      "   x\n"
     ]
    }
   ],
   "source": [
    "print(p.summary())"
   ]
  },
  {
   "cell_type": "code",
   "execution_count": 3,
   "metadata": {},
   "outputs": [
    {
     "name": "stdout",
     "output_type": "stream",
     "text": [
      "   x*1\n",
      "== [1 steps, 0 equations]\n",
      "   x\n"
     ]
    }
   ],
   "source": [
    "p += x\n",
    "print(p.summary())"
   ]
  },
  {
   "cell_type": "code",
   "execution_count": 4,
   "metadata": {},
   "outputs": [
    {
     "name": "stdout",
     "output_type": "stream",
     "text": [
      "   x*1\n",
      "== [2 steps, 0 equations]\n",
      "   1*x\n"
     ]
    }
   ],
   "source": [
    "p = Proof(x * 1, 1 * x)\n",
    "p += x\n",
    "p += 1 * x\n",
    "print(p.summary())"
   ]
  },
  {
   "cell_type": "code",
   "execution_count": 5,
   "metadata": {},
   "outputs": [
    {
     "name": "stdout",
     "output_type": "stream",
     "text": [
      "Theorem: x*1 == 1*x\n",
      "Proof:\n",
      "   x*1\n",
      "== \n",
      "   x\n",
      "== \n",
      "   1*x\n"
     ]
    }
   ],
   "source": [
    "print(p)"
   ]
  },
  {
   "cell_type": "code",
   "execution_count": null,
   "metadata": {},
   "outputs": [],
   "source": []
  }
 ],
 "metadata": {
  "kernelspec": {
   "display_name": "pyenv",
   "language": "python",
   "name": "python3"
  },
  "language_info": {
   "codemirror_mode": {
    "name": "ipython",
    "version": 3
   },
   "file_extension": ".py",
   "mimetype": "text/x-python",
   "name": "python",
   "nbconvert_exporter": "python",
   "pygments_lexer": "ipython3",
   "version": "3.10.1"
  }
 },
 "nbformat": 4,
 "nbformat_minor": 2
}
