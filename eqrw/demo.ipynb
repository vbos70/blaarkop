{
 "cells": [
  {
   "cell_type": "markdown",
   "metadata": {},
   "source": [
    "# EQRW: Equational Rewriting\n",
    "\n",
    "EQRW is a library to create and manipulate equational proofs. You define z3 terms and equations and use EQRW to create equational proofs.\n",
    "\n",
    "For example, an equational proof of `x * 1 = x` could look like this:\n",
    "\n",
    "       x * 1\n",
    "    == { arithmetic }\n",
    "       x\n",
    "\n",
    "In EQRW, this proof is created and printed as follows:\n",
    "\n",
    "    >>> from eqrw import *\n",
    "    >>> from z3 import *\n",
    "    >>> x = Int('x')\n",
    "    >>> p = Proof(x * 1, x)\n",
    "    >>> p += x\n",
    "    >>> print(p)\n",
    "    Theorem: x*1 == x\n",
    "    Proof:\n",
    "       x*1\n",
    "    ==\n",
    "       x\n",
    "\n",
    "The printed proof first shows the theorem (`x*1 == x`) and then the equational proof of the theorem. Note that the printed proof is very similar to the manual proof above.\n",
    "\n",
    "EQRW uses the *z3* SMT library as a backend. That means EQRM's idea of \"simple\" steps in a proof is anything that *z3* can proof using *z3*-built-in rules only.\n",
    "\n",
    "Equational proofs are usually more interesting if user-defined equations are needed. Here follows an example."
   ]
  },
  {
   "cell_type": "code",
   "execution_count": 7,
   "metadata": {},
   "outputs": [],
   "source": [
    "from z3 import *\n",
    "from eqrw import *"
   ]
  },
  {
   "cell_type": "code",
   "execution_count": 14,
   "metadata": {},
   "outputs": [
    {
     "name": "stdout",
     "output_type": "stream",
     "text": [
      "Theorem: j == 42\n",
      "Proof:\n",
      "   j\n",
      "== [j == 7*i]\n",
      "   7*i\n",
      "== [i == 6]\n",
      "   42\n",
      "j == 7*i\n",
      "i == 6\n"
     ]
    }
   ],
   "source": [
    "i, j = Ints('i j')\n",
    "p = Proof(j, 42)\n",
    "p += 7 * i,             j == 7 * i\n",
    "p += 42,                i == 6\n",
    "print(p)\n",
    "print(\"\\n\".join([\"Equations\"] + [str(eq) for eq in p.equations()]))"
   ]
  },
  {
   "cell_type": "markdown",
   "metadata": {},
   "source": [
    "Note that the intermediate result `7*6`, which results from applying `i == 6` to `7*i` is not shown. It has been automatically rewritten by (*z3*'s) built-in rules."
   ]
  },
  {
   "cell_type": "code",
   "execution_count": 9,
   "metadata": {},
   "outputs": [
    {
     "name": "stdout",
     "output_type": "stream",
     "text": [
      "   x*1\n",
      "== [2 steps, 0 equations]\n",
      "   1*x\n"
     ]
    }
   ],
   "source": [
    "x = Int('x')\n",
    "p = Proof(x * 1, 1 * x)\n",
    "p += x\n",
    "p += 1 * x\n",
    "print(p.summary())"
   ]
  },
  {
   "cell_type": "code",
   "execution_count": 10,
   "metadata": {},
   "outputs": [
    {
     "name": "stdout",
     "output_type": "stream",
     "text": [
      "set()\n"
     ]
    }
   ],
   "source": [
    "print(p.equations())"
   ]
  },
  {
   "cell_type": "code",
   "execution_count": 11,
   "metadata": {},
   "outputs": [
    {
     "name": "stdout",
     "output_type": "stream",
     "text": [
      "Theorem: x*1 == 1*x\n",
      "Proof:\n",
      "   x*1\n",
      "== \n",
      "   x\n",
      "== \n",
      "   1*x\n"
     ]
    }
   ],
   "source": [
    "print(p)"
   ]
  },
  {
   "cell_type": "code",
   "execution_count": 12,
   "metadata": {},
   "outputs": [
    {
     "name": "stdout",
     "output_type": "stream",
     "text": [
      "set()\n"
     ]
    }
   ],
   "source": [
    "print(p.equations())"
   ]
  },
  {
   "cell_type": "code",
   "execution_count": null,
   "metadata": {},
   "outputs": [],
   "source": []
  }
 ],
 "metadata": {
  "kernelspec": {
   "display_name": "pyenv",
   "language": "python",
   "name": "python3"
  },
  "language_info": {
   "codemirror_mode": {
    "name": "ipython",
    "version": 3
   },
   "file_extension": ".py",
   "mimetype": "text/x-python",
   "name": "python",
   "nbconvert_exporter": "python",
   "pygments_lexer": "ipython3",
   "version": "3.10.1"
  }
 },
 "nbformat": 4,
 "nbformat_minor": 2
}
