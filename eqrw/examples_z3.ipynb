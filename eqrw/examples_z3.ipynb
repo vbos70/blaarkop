{
 "cells": [
  {
   "cell_type": "code",
   "execution_count": 1,
   "metadata": {},
   "outputs": [],
   "source": [
    "from process import *\n",
    "from process_theory import *"
   ]
  },
  {
   "cell_type": "markdown",
   "metadata": {},
   "source": [
    "# Defining a process theory\n",
    "\n",
    "A process theory defines equations on processws. Processes are built up from atoms, variables, and process-operators. Atoms are defined with the function `atoms()` and variables are defined with the function `vars()`. A theory is an element of the `Theory` class. Its constructor takes zero of more keyword arguments. The arguments `atoms` and `variables` give the lists of atoms and variables of the theory. The remaining arguments are supposed to provide the axioms, i.e., process-equalities, of the theory. The following example shows how this works. "
   ]
  },
  {
   "cell_type": "code",
   "execution_count": 2,
   "metadata": {},
   "outputs": [],
   "source": [
    "blocked, ready = atoms('blocked, ready')\n",
    "x, y, z = vars('x, y, z')\n",
    "\n",
    "# (Python) variable TH0 is assigned a process-theory\n",
    "TH0 = Theory(\n",
    "    atoms = [blocked, ready],\n",
    "    variables = [x, y, z],\n",
    "    AX1 = blocked * x == blocked,\n",
    "    AX2 = ready * x == x,\n",
    "    AX3 = x * ready == x,\n",
    "    AX4 = x + blocked == x,\n",
    "    AX5 = x + y == y + x,\n",
    "    AX6 = x + x == x,\n",
    "    AX7 = (x + y) + x == x + (y + z),\n",
    "    AX8 = (x * y) * z == x * (y * z),\n",
    "    AX9 = (x + y) * z == x * z + y * z\n",
    ")"
   ]
  },
  {
   "cell_type": "markdown",
   "metadata": {},
   "source": [
    "The variables stand for arbitrary processes. Therefore, an axiom `AX1 = blocked * x == blocked` means that for all processes `x`, `blocked * x` is equal to `blocked`. The `*` process-operator is sequential composition. The meaning of `x * y` is the behaviour of `x` followed by the behaviour of `y`. If `x` is `blocked`, then `x * y` will never start the behaviour of `y`.\n",
    "\n",
    "> The expressions in `Theory`s are normal Python expressions. Therefore, atoms and variables follow the syntax of Python variables and process-operators are limited to the Python operators defined on `CoreProcess`es: `+`, `*`, and `|`."
   ]
  },
  {
   "cell_type": "code",
   "execution_count": 3,
   "metadata": {},
   "outputs": [
    {
     "name": "stdout",
     "output_type": "stream",
     "text": [
      "blocked * x == blocked\n",
      "x + x == x\n",
      "AX1 lhs: blocked * x, AX1 rhs: blocked\n",
      "AX6 lhs: x + x, AX1 rhs: x\n"
     ]
    }
   ],
   "source": [
    "# attribute-access can be used for the theory's axioms\n",
    "print(TH0.AX1)\n",
    "print(TH0.AX6)\n",
    "\n",
    "# and axiom has a left-hand side and a right-hand side, which\n",
    "# can be accessed by lhs and rhs, respectively.\n",
    "\n",
    "print(f'AX1 lhs: {TH0.AX1.lhs}, AX1 rhs: {TH0.AX1.rhs}')\n",
    "print(f'AX6 lhs: {TH0.AX6.lhs}, AX1 rhs: {TH0.AX6.rhs}')\n",
    " "
   ]
  },
  {
   "cell_type": "markdown",
   "metadata": {},
   "source": [
    "## Actions\n",
    "\n",
    "Process theories can be used to model system behaviour. The smallest unit of system behaviour is called an *action*. In process theories, actions are assumed to be provided by the user. The function `actions()` is similar to the `atoms()` and `vars()` functions above, but instead of defining atoms or variables, it defines actions. The intention is that these actions capture the smallest units of behaviour of the system."
   ]
  },
  {
   "cell_type": "code",
   "execution_count": 4,
   "metadata": {},
   "outputs": [],
   "source": [
    "# define three actions\n",
    "a,b,c = actions('a, b, c')\n",
    "\n",
    "# create a process p built up from the actions\n",
    "p = a * b * (a + b) * c"
   ]
  },
  {
   "cell_type": "code",
   "execution_count": 5,
   "metadata": {},
   "outputs": [
    {
     "name": "stdout",
     "output_type": "stream",
     "text": [
      "a * b * (a + b) * c\n"
     ]
    }
   ],
   "source": [
    "print(p)"
   ]
  },
  {
   "cell_type": "markdown",
   "metadata": {},
   "source": [
    "`p` is a process that starts with action `a`, then `b` and then either an `a` or a `b` and finally a `c`. Another way to model this behaviour is by a process that starts with action `a`, then  `b`, and then `a`-followed-by-`c` or `b`-followed-by-`c`, as defined by process `q` below.  "
   ]
  },
  {
   "cell_type": "code",
   "execution_count": 6,
   "metadata": {},
   "outputs": [],
   "source": [
    "q = a * b * (a * c + b * c)"
   ]
  },
  {
   "cell_type": "markdown",
   "metadata": {},
   "source": [
    "# Proofs\n",
    "\n",
    "Process `p` and `q` model the same behaviour. However, their definitions are not exactly the same. We can prove `p == q` by using axioms `AX8` and `AX9` of theory `TH0`:"
   ]
  },
  {
   "cell_type": "code",
   "execution_count": 7,
   "metadata": {},
   "outputs": [],
   "source": [
    "prf = EqProof(p)\n",
    "prf += a * b * ((a + b) * c), TH0.AX8\n",
    "prf += q, TH0.AX9"
   ]
  },
  {
   "cell_type": "markdown",
   "metadata": {},
   "source": [
    "The `prf` represents an equational proof (on processes). The typical style of equational proofs becomes visible if we print the proof:"
   ]
  },
  {
   "cell_type": "code",
   "execution_count": 8,
   "metadata": {},
   "outputs": [
    {
     "name": "stdout",
     "output_type": "stream",
     "text": [
      "  a * b * (a + b) * c\n",
      "= {x * y * z == x * (y * z)}\n",
      "  a * b * ((a + b) * c)\n",
      "= {(x + y) * z == x * z + y * z}\n",
      "  a * b * (a * c + b * c)\n"
     ]
    }
   ],
   "source": [
    "print(prf)"
   ]
  },
  {
   "cell_type": "markdown",
   "metadata": {},
   "source": [
    "## Constructing Equational Proofs\n",
    "\n",
    "The constructor `EqProof()` takes the initial process term as an argument. New process terms can be added to the proof by the `_ += _` in-place-add operator (Python's `__iadd__()` function). It takes the current proof, the target / next process term and zero or more \"justifications\" as arguments:\n",
    "\n",
    "    prf += pnext, J1, ..., Jn\n",
    "\n",
    "The in-place-add operation succeeds if `prf` can be extended to `pnext` by applying the equations listed in justifications `J1`..`Jn`.\n",
    "\n",
    "> Note: The `_ += _` operator to extend equational proofs uses Z3, see [Introduction | Online Z3 Guide](https://microsoft.github.io/z3guide/programming/Z3%20Python%20-%20Readonly/Introduction/), to verify that the given target can be proven. In addition to the given justifications `J1`..`Jn`, also Z3's built-in rules will be used in the verification. The built-in rules are mostly for numerical calculations.\n",
    "\n",
    "In the example above, the proof is extended twice. First by applying `AX8` and then by applying `AX9`.\n",
    "\n",
    "If `pnext` cannot be proven by `J1`..`Jn`, then an exception is raised. It might take quite long before this happens. The exception or the computation does not end (in which case there will be a lower-level exception indicating some kind of overflow or memory shortage).\n",
    "\n",
    "\n",
    "## Shortening the proof\n",
    "\n",
    "The two steps in the proof above can be combined into one by providing both axioms at the same time:"
   ]
  },
  {
   "cell_type": "code",
   "execution_count": 9,
   "metadata": {},
   "outputs": [
    {
     "name": "stdout",
     "output_type": "stream",
     "text": [
      "  a * b * (a + b) * c\n",
      "= {x * y * z == x * (y * z), (x + y) * z == x * z + y * z}\n",
      "  a * b * (a * c + b * c)\n"
     ]
    }
   ],
   "source": [
    "prf = EqProof(p)\n",
    "prf += q, TH0.AX8, TH0.AX9\n",
    "print(prf)"
   ]
  },
  {
   "cell_type": "markdown",
   "metadata": {},
   "source": [
    "## Failing proofs\n",
    "\n",
    "If you try to extend a proof, but the target cannot be derived from the proof's current final process term using the justifications given, the proof extension fails and an `EqProofException` is raised. For instance, the proof above fails if `AX9` is but `AX8` is not provided as a justification:"
   ]
  },
  {
   "cell_type": "code",
   "execution_count": 10,
   "metadata": {},
   "outputs": [
    {
     "name": "stdout",
     "output_type": "stream",
     "text": [
      "The timeout for checking proof steps is: 120.0 seconds.\n",
      "Updating timeout...\n",
      "Now, the timeout for checking proof steps is: 2.0 seconds\n"
     ]
    }
   ],
   "source": [
    "print(f'The timeout for checking proof steps is: {timeout()} seconds.\\nUpdating timeout...')\n",
    "set_timeout(2)\n",
    "print(f'Now, the timeout for checking proof steps is: {timeout()} seconds')\n"
   ]
  },
  {
   "cell_type": "code",
   "execution_count": 11,
   "metadata": {},
   "outputs": [
    {
     "ename": "ProofException",
     "evalue": "Cannot proof a * b * (a + b) * c == a * b * (a * c + b * c) from (x + y) * z == x * z + y * z",
     "output_type": "error",
     "traceback": [
      "\u001b[0;31m---------------------------------------------------------------------------\u001b[0m",
      "\u001b[0;31mProofTimeoutException\u001b[0m                     Traceback (most recent call last)",
      "File \u001b[0;32m~/blaarkop/eqrw/process_theory.py:176\u001b[0m, in \u001b[0;36mEqProof.verify_step\u001b[0;34m(self, lhs, rhs, *cs)\u001b[0m\n\u001b[1;32m    175\u001b[0m \u001b[38;5;28;01mtry\u001b[39;00m:\n\u001b[0;32m--> 176\u001b[0m     \u001b[38;5;28;01mreturn\u001b[39;00m \u001b[43mz3_prove\u001b[49m\u001b[43m(\u001b[49m\u001b[43mlhs\u001b[49m\u001b[38;5;241;43m.\u001b[39;49m\u001b[43mz3expr\u001b[49m\u001b[43m \u001b[49m\u001b[38;5;241;43m==\u001b[39;49m\u001b[43m \u001b[49m\u001b[43mrhs\u001b[49m\u001b[38;5;241;43m.\u001b[39;49m\u001b[43mz3expr\u001b[49m\u001b[43m,\u001b[49m\u001b[43m \u001b[49m\u001b[38;5;241;43m*\u001b[39;49m\u001b[43mz3eqs\u001b[49m\u001b[43m)\u001b[49m\n\u001b[1;32m    177\u001b[0m \u001b[38;5;28;01mexcept\u001b[39;00m ProofException \u001b[38;5;28;01mas\u001b[39;00m e:\n",
      "File \u001b[0;32m~/blaarkop/eqrw/process_theory.py:59\u001b[0m, in \u001b[0;36mz3_prove\u001b[0;34m(formula, *eqs)\u001b[0m\n\u001b[1;32m     58\u001b[0m \u001b[38;5;28;01mif\u001b[39;00m t1 \u001b[38;5;241m-\u001b[39m t0 \u001b[38;5;241m>\u001b[39m timeout():\n\u001b[0;32m---> 59\u001b[0m     \u001b[38;5;28;01mraise\u001b[39;00m ProofTimeoutException(\u001b[38;5;124mf\u001b[39m\u001b[38;5;124m\"\u001b[39m\u001b[38;5;124mTimeout expired for proof step: \u001b[39m\u001b[38;5;132;01m{\u001b[39;00mtimeout()\u001b[38;5;132;01m}\u001b[39;00m\u001b[38;5;124ms < \u001b[39m\u001b[38;5;132;01m{\u001b[39;00mt1\u001b[38;5;241m-\u001b[39mt0\u001b[38;5;132;01m}\u001b[39;00m\u001b[38;5;124ms\u001b[39m\u001b[38;5;124m\"\u001b[39m)\n\u001b[1;32m     60\u001b[0m \u001b[38;5;28;01mreturn\u001b[39;00m result\n",
      "\u001b[0;31mProofTimeoutException\u001b[0m: Timeout expired for proof step: 2.0s < 2.0511906147003174s",
      "\nThe above exception was the direct cause of the following exception:\n",
      "\u001b[0;31mProofException\u001b[0m                            Traceback (most recent call last)",
      "Cell \u001b[0;32mIn[11], line 3\u001b[0m\n\u001b[1;32m      1\u001b[0m \u001b[38;5;66;03m# Warning: this program takes up to timeout() seconds:\u001b[39;00m\n\u001b[1;32m      2\u001b[0m prf \u001b[38;5;241m=\u001b[39m EqProof(p)\n\u001b[0;32m----> 3\u001b[0m prf \u001b[38;5;241m+\u001b[39m\u001b[38;5;241m=\u001b[39m q, TH0\u001b[38;5;241m.\u001b[39mAX9\n",
      "File \u001b[0;32m~/blaarkop/eqrw/process_theory.py:222\u001b[0m, in \u001b[0;36mEqProof.__iadd__\u001b[0;34m(self, other)\u001b[0m\n\u001b[1;32m    220\u001b[0m \u001b[38;5;28;01mif\u001b[39;00m \u001b[38;5;28mtype\u001b[39m(other) \u001b[38;5;129;01mis\u001b[39;00m \u001b[38;5;129;01mnot\u001b[39;00m \u001b[38;5;28mtuple\u001b[39m:\n\u001b[1;32m    221\u001b[0m     other \u001b[38;5;241m=\u001b[39m (other,)\n\u001b[0;32m--> 222\u001b[0m \u001b[38;5;28;01mreturn\u001b[39;00m \u001b[38;5;28;43mself\u001b[39;49m\u001b[38;5;241;43m.\u001b[39;49m\u001b[43m_extend_\u001b[49m\u001b[43m(\u001b[49m\u001b[43mother\u001b[49m\u001b[43m[\u001b[49m\u001b[38;5;241;43m0\u001b[39;49m\u001b[43m]\u001b[49m\u001b[43m,\u001b[49m\u001b[43m \u001b[49m\u001b[43mother\u001b[49m\u001b[43m[\u001b[49m\u001b[38;5;241;43m1\u001b[39;49m\u001b[43m:\u001b[49m\u001b[43m]\u001b[49m\u001b[43m)\u001b[49m\n",
      "File \u001b[0;32m~/blaarkop/eqrw/process_theory.py:208\u001b[0m, in \u001b[0;36mEqProof._extend_\u001b[0;34m(self, e, equations)\u001b[0m\n\u001b[1;32m    201\u001b[0m \u001b[38;5;28;01mdef\u001b[39;00m \u001b[38;5;21m_extend_\u001b[39m(\u001b[38;5;28mself\u001b[39m, e, equations):\n\u001b[1;32m    202\u001b[0m \u001b[38;5;250m    \u001b[39m\u001b[38;5;124;03m'''Extends this proof by Process `e` and justification `equations`.\u001b[39;00m\n\u001b[1;32m    203\u001b[0m \n\u001b[1;32m    204\u001b[0m \u001b[38;5;124;03m    Returns `self`.\u001b[39;00m\n\u001b[1;32m    205\u001b[0m \n\u001b[1;32m    206\u001b[0m \u001b[38;5;124;03m    Raises a `ProofException` if z3 cannot prove `e` with the justification `equations`.\u001b[39;00m\n\u001b[1;32m    207\u001b[0m \u001b[38;5;124;03m    '''\u001b[39;00m\n\u001b[0;32m--> 208\u001b[0m     \u001b[38;5;28;01mif\u001b[39;00m \u001b[38;5;129;01mnot\u001b[39;00m \u001b[38;5;28;43mself\u001b[39;49m\u001b[38;5;241;43m.\u001b[39;49m\u001b[43mverify_step\u001b[49m\u001b[43m(\u001b[49m\u001b[38;5;28;43mself\u001b[39;49m\u001b[38;5;241;43m.\u001b[39;49m\u001b[43mstep\u001b[49m\u001b[43m[\u001b[49m\u001b[38;5;241;43m-\u001b[39;49m\u001b[38;5;241;43m1\u001b[39;49m\u001b[43m]\u001b[49m\u001b[43m,\u001b[49m\u001b[43m \u001b[49m\u001b[43me\u001b[49m\u001b[43m,\u001b[49m\u001b[43m \u001b[49m\u001b[38;5;241;43m*\u001b[39;49m\u001b[43mequations\u001b[49m\u001b[43m)\u001b[49m:\n\u001b[1;32m    209\u001b[0m         \u001b[38;5;28;01mraise\u001b[39;00m ProofException(\u001b[38;5;124mf\u001b[39m\u001b[38;5;124m\"\u001b[39m\u001b[38;5;124mCannot proof \u001b[39m\u001b[38;5;132;01m{\u001b[39;00m\u001b[38;5;28mself\u001b[39m\u001b[38;5;241m.\u001b[39mstep[\u001b[38;5;241m-\u001b[39m\u001b[38;5;241m1\u001b[39m]\u001b[38;5;132;01m}\u001b[39;00m\u001b[38;5;124m == \u001b[39m\u001b[38;5;132;01m{\u001b[39;00me\u001b[38;5;132;01m}\u001b[39;00m\u001b[38;5;124m from \u001b[39m\u001b[38;5;132;01m{\u001b[39;00m\u001b[38;5;124m'\u001b[39m\u001b[38;5;124m, \u001b[39m\u001b[38;5;124m'\u001b[39m\u001b[38;5;241m.\u001b[39mjoin(\u001b[38;5;28mstr\u001b[39m(eq)\u001b[38;5;250m \u001b[39m\u001b[38;5;28;01mfor\u001b[39;00m\u001b[38;5;250m \u001b[39meq\u001b[38;5;250m \u001b[39m\u001b[38;5;129;01min\u001b[39;00m\u001b[38;5;250m \u001b[39mequations)\u001b[38;5;132;01m}\u001b[39;00m\u001b[38;5;124m\"\u001b[39m)\n\u001b[1;32m    210\u001b[0m     \u001b[38;5;28mself\u001b[39m\u001b[38;5;241m.\u001b[39mstep\u001b[38;5;241m.\u001b[39mappend(e)\n",
      "File \u001b[0;32m~/blaarkop/eqrw/process_theory.py:178\u001b[0m, in \u001b[0;36mEqProof.verify_step\u001b[0;34m(self, lhs, rhs, *cs)\u001b[0m\n\u001b[1;32m    176\u001b[0m     \u001b[38;5;28;01mreturn\u001b[39;00m z3_prove(lhs\u001b[38;5;241m.\u001b[39mz3expr \u001b[38;5;241m==\u001b[39m rhs\u001b[38;5;241m.\u001b[39mz3expr, \u001b[38;5;241m*\u001b[39mz3eqs)\n\u001b[1;32m    177\u001b[0m \u001b[38;5;28;01mexcept\u001b[39;00m ProofException \u001b[38;5;28;01mas\u001b[39;00m e:\n\u001b[0;32m--> 178\u001b[0m     \u001b[38;5;28;01mraise\u001b[39;00m ProofException(\u001b[38;5;124mf\u001b[39m\u001b[38;5;124m\"\u001b[39m\u001b[38;5;124mCannot proof \u001b[39m\u001b[38;5;132;01m{\u001b[39;00mlhs\u001b[38;5;132;01m}\u001b[39;00m\u001b[38;5;124m == \u001b[39m\u001b[38;5;132;01m{\u001b[39;00mrhs\u001b[38;5;132;01m}\u001b[39;00m\u001b[38;5;124m from \u001b[39m\u001b[38;5;132;01m{\u001b[39;00m\u001b[38;5;124m'\u001b[39m\u001b[38;5;124m, \u001b[39m\u001b[38;5;124m'\u001b[39m\u001b[38;5;241m.\u001b[39mjoin(\u001b[38;5;28mstr\u001b[39m(eq)\u001b[38;5;250m \u001b[39m\u001b[38;5;28;01mfor\u001b[39;00m\u001b[38;5;250m \u001b[39meq\u001b[38;5;250m \u001b[39m\u001b[38;5;129;01min\u001b[39;00m\u001b[38;5;250m \u001b[39mequations)\u001b[38;5;132;01m}\u001b[39;00m\u001b[38;5;124m\"\u001b[39m) \u001b[38;5;28;01mfrom\u001b[39;00m \u001b[38;5;21;01me\u001b[39;00m\n",
      "\u001b[0;31mProofException\u001b[0m: Cannot proof a * b * (a + b) * c == a * b * (a * c + b * c) from (x + y) * z == x * z + y * z"
     ]
    }
   ],
   "source": [
    "# Warning: this program takes up to timeout() seconds:\n",
    "prf = EqProof(p)\n",
    "prf += q, TH0.AX9"
   ]
  },
  {
   "cell_type": "markdown",
   "metadata": {},
   "source": [
    "The error message says that the step failed because the proof timed-out. The maximum timeout can be queried with the function `timeout()`. It can be changed to a new value `t` with the function `set_timeout(t)`:"
   ]
  },
  {
   "cell_type": "code",
   "execution_count": 13,
   "metadata": {},
   "outputs": [
    {
     "name": "stdout",
     "output_type": "stream",
     "text": [
      "2.0\n",
      "5.0\n"
     ]
    }
   ],
   "source": [
    "print(timeout())\n",
    "set_timeout(5)\n",
    "print(timeout())"
   ]
  },
  {
   "cell_type": "markdown",
   "metadata": {},
   "source": [
    "Since the proof failed, it was not extended. So, it still has only one process term:"
   ]
  },
  {
   "cell_type": "code",
   "execution_count": 12,
   "metadata": {},
   "outputs": [
    {
     "name": "stdout",
     "output_type": "stream",
     "text": [
      "  a * b * (a + b) * c\n"
     ]
    }
   ],
   "source": [
    "# The proof was not extended:\n",
    "print(prf)"
   ]
  },
  {
   "cell_type": "markdown",
   "metadata": {},
   "source": [
    "The proof also fails if `AX8` is but `AX9` is not provided as a justification:"
   ]
  },
  {
   "cell_type": "code",
   "execution_count": 14,
   "metadata": {},
   "outputs": [
    {
     "ename": "ProofException",
     "evalue": "Cannot proof a * b * (a + b) * c == a * b * (a * c + b * c) from x * y * z == x * (y * z)",
     "output_type": "error",
     "traceback": [
      "\u001b[0;31m---------------------------------------------------------------------------\u001b[0m",
      "\u001b[0;31mProofTimeoutException\u001b[0m                     Traceback (most recent call last)",
      "File \u001b[0;32m~/blaarkop/eqrw/process_theory.py:176\u001b[0m, in \u001b[0;36mEqProof.verify_step\u001b[0;34m(self, lhs, rhs, *cs)\u001b[0m\n\u001b[1;32m    175\u001b[0m \u001b[38;5;28;01mtry\u001b[39;00m:\n\u001b[0;32m--> 176\u001b[0m     \u001b[38;5;28;01mreturn\u001b[39;00m \u001b[43mz3_prove\u001b[49m\u001b[43m(\u001b[49m\u001b[43mlhs\u001b[49m\u001b[38;5;241;43m.\u001b[39;49m\u001b[43mz3expr\u001b[49m\u001b[43m \u001b[49m\u001b[38;5;241;43m==\u001b[39;49m\u001b[43m \u001b[49m\u001b[43mrhs\u001b[49m\u001b[38;5;241;43m.\u001b[39;49m\u001b[43mz3expr\u001b[49m\u001b[43m,\u001b[49m\u001b[43m \u001b[49m\u001b[38;5;241;43m*\u001b[39;49m\u001b[43mz3eqs\u001b[49m\u001b[43m)\u001b[49m\n\u001b[1;32m    177\u001b[0m \u001b[38;5;28;01mexcept\u001b[39;00m ProofException \u001b[38;5;28;01mas\u001b[39;00m e:\n",
      "File \u001b[0;32m~/blaarkop/eqrw/process_theory.py:59\u001b[0m, in \u001b[0;36mz3_prove\u001b[0;34m(formula, *eqs)\u001b[0m\n\u001b[1;32m     58\u001b[0m \u001b[38;5;28;01mif\u001b[39;00m t1 \u001b[38;5;241m-\u001b[39m t0 \u001b[38;5;241m>\u001b[39m timeout():\n\u001b[0;32m---> 59\u001b[0m     \u001b[38;5;28;01mraise\u001b[39;00m ProofTimeoutException(\u001b[38;5;124mf\u001b[39m\u001b[38;5;124m\"\u001b[39m\u001b[38;5;124mTimeout expired for proof step: \u001b[39m\u001b[38;5;132;01m{\u001b[39;00mtimeout()\u001b[38;5;132;01m}\u001b[39;00m\u001b[38;5;124ms < \u001b[39m\u001b[38;5;132;01m{\u001b[39;00mt1\u001b[38;5;241m-\u001b[39mt0\u001b[38;5;132;01m}\u001b[39;00m\u001b[38;5;124ms\u001b[39m\u001b[38;5;124m\"\u001b[39m)\n\u001b[1;32m     60\u001b[0m \u001b[38;5;28;01mreturn\u001b[39;00m result\n",
      "\u001b[0;31mProofTimeoutException\u001b[0m: Timeout expired for proof step: 5.0s < 5.080212593078613s",
      "\nThe above exception was the direct cause of the following exception:\n",
      "\u001b[0;31mProofException\u001b[0m                            Traceback (most recent call last)",
      "Cell \u001b[0;32mIn[14], line 3\u001b[0m\n\u001b[1;32m      1\u001b[0m \u001b[38;5;66;03m# Warning: this program takes very/infinitely long:\u001b[39;00m\n\u001b[1;32m      2\u001b[0m prf \u001b[38;5;241m=\u001b[39m EqProof(p)\n\u001b[0;32m----> 3\u001b[0m prf \u001b[38;5;241m+\u001b[39m\u001b[38;5;241m=\u001b[39m q, TH0\u001b[38;5;241m.\u001b[39mAX8\n",
      "File \u001b[0;32m~/blaarkop/eqrw/process_theory.py:222\u001b[0m, in \u001b[0;36mEqProof.__iadd__\u001b[0;34m(self, other)\u001b[0m\n\u001b[1;32m    220\u001b[0m \u001b[38;5;28;01mif\u001b[39;00m \u001b[38;5;28mtype\u001b[39m(other) \u001b[38;5;129;01mis\u001b[39;00m \u001b[38;5;129;01mnot\u001b[39;00m \u001b[38;5;28mtuple\u001b[39m:\n\u001b[1;32m    221\u001b[0m     other \u001b[38;5;241m=\u001b[39m (other,)\n\u001b[0;32m--> 222\u001b[0m \u001b[38;5;28;01mreturn\u001b[39;00m \u001b[38;5;28;43mself\u001b[39;49m\u001b[38;5;241;43m.\u001b[39;49m\u001b[43m_extend_\u001b[49m\u001b[43m(\u001b[49m\u001b[43mother\u001b[49m\u001b[43m[\u001b[49m\u001b[38;5;241;43m0\u001b[39;49m\u001b[43m]\u001b[49m\u001b[43m,\u001b[49m\u001b[43m \u001b[49m\u001b[43mother\u001b[49m\u001b[43m[\u001b[49m\u001b[38;5;241;43m1\u001b[39;49m\u001b[43m:\u001b[49m\u001b[43m]\u001b[49m\u001b[43m)\u001b[49m\n",
      "File \u001b[0;32m~/blaarkop/eqrw/process_theory.py:208\u001b[0m, in \u001b[0;36mEqProof._extend_\u001b[0;34m(self, e, equations)\u001b[0m\n\u001b[1;32m    201\u001b[0m \u001b[38;5;28;01mdef\u001b[39;00m \u001b[38;5;21m_extend_\u001b[39m(\u001b[38;5;28mself\u001b[39m, e, equations):\n\u001b[1;32m    202\u001b[0m \u001b[38;5;250m    \u001b[39m\u001b[38;5;124;03m'''Extends this proof by Process `e` and justification `equations`.\u001b[39;00m\n\u001b[1;32m    203\u001b[0m \n\u001b[1;32m    204\u001b[0m \u001b[38;5;124;03m    Returns `self`.\u001b[39;00m\n\u001b[1;32m    205\u001b[0m \n\u001b[1;32m    206\u001b[0m \u001b[38;5;124;03m    Raises a `ProofException` if z3 cannot prove `e` with the justification `equations`.\u001b[39;00m\n\u001b[1;32m    207\u001b[0m \u001b[38;5;124;03m    '''\u001b[39;00m\n\u001b[0;32m--> 208\u001b[0m     \u001b[38;5;28;01mif\u001b[39;00m \u001b[38;5;129;01mnot\u001b[39;00m \u001b[38;5;28;43mself\u001b[39;49m\u001b[38;5;241;43m.\u001b[39;49m\u001b[43mverify_step\u001b[49m\u001b[43m(\u001b[49m\u001b[38;5;28;43mself\u001b[39;49m\u001b[38;5;241;43m.\u001b[39;49m\u001b[43mstep\u001b[49m\u001b[43m[\u001b[49m\u001b[38;5;241;43m-\u001b[39;49m\u001b[38;5;241;43m1\u001b[39;49m\u001b[43m]\u001b[49m\u001b[43m,\u001b[49m\u001b[43m \u001b[49m\u001b[43me\u001b[49m\u001b[43m,\u001b[49m\u001b[43m \u001b[49m\u001b[38;5;241;43m*\u001b[39;49m\u001b[43mequations\u001b[49m\u001b[43m)\u001b[49m:\n\u001b[1;32m    209\u001b[0m         \u001b[38;5;28;01mraise\u001b[39;00m ProofException(\u001b[38;5;124mf\u001b[39m\u001b[38;5;124m\"\u001b[39m\u001b[38;5;124mCannot proof \u001b[39m\u001b[38;5;132;01m{\u001b[39;00m\u001b[38;5;28mself\u001b[39m\u001b[38;5;241m.\u001b[39mstep[\u001b[38;5;241m-\u001b[39m\u001b[38;5;241m1\u001b[39m]\u001b[38;5;132;01m}\u001b[39;00m\u001b[38;5;124m == \u001b[39m\u001b[38;5;132;01m{\u001b[39;00me\u001b[38;5;132;01m}\u001b[39;00m\u001b[38;5;124m from \u001b[39m\u001b[38;5;132;01m{\u001b[39;00m\u001b[38;5;124m'\u001b[39m\u001b[38;5;124m, \u001b[39m\u001b[38;5;124m'\u001b[39m\u001b[38;5;241m.\u001b[39mjoin(\u001b[38;5;28mstr\u001b[39m(eq)\u001b[38;5;250m \u001b[39m\u001b[38;5;28;01mfor\u001b[39;00m\u001b[38;5;250m \u001b[39meq\u001b[38;5;250m \u001b[39m\u001b[38;5;129;01min\u001b[39;00m\u001b[38;5;250m \u001b[39mequations)\u001b[38;5;132;01m}\u001b[39;00m\u001b[38;5;124m\"\u001b[39m)\n\u001b[1;32m    210\u001b[0m     \u001b[38;5;28mself\u001b[39m\u001b[38;5;241m.\u001b[39mstep\u001b[38;5;241m.\u001b[39mappend(e)\n",
      "File \u001b[0;32m~/blaarkop/eqrw/process_theory.py:178\u001b[0m, in \u001b[0;36mEqProof.verify_step\u001b[0;34m(self, lhs, rhs, *cs)\u001b[0m\n\u001b[1;32m    176\u001b[0m     \u001b[38;5;28;01mreturn\u001b[39;00m z3_prove(lhs\u001b[38;5;241m.\u001b[39mz3expr \u001b[38;5;241m==\u001b[39m rhs\u001b[38;5;241m.\u001b[39mz3expr, \u001b[38;5;241m*\u001b[39mz3eqs)\n\u001b[1;32m    177\u001b[0m \u001b[38;5;28;01mexcept\u001b[39;00m ProofException \u001b[38;5;28;01mas\u001b[39;00m e:\n\u001b[0;32m--> 178\u001b[0m     \u001b[38;5;28;01mraise\u001b[39;00m ProofException(\u001b[38;5;124mf\u001b[39m\u001b[38;5;124m\"\u001b[39m\u001b[38;5;124mCannot proof \u001b[39m\u001b[38;5;132;01m{\u001b[39;00mlhs\u001b[38;5;132;01m}\u001b[39;00m\u001b[38;5;124m == \u001b[39m\u001b[38;5;132;01m{\u001b[39;00mrhs\u001b[38;5;132;01m}\u001b[39;00m\u001b[38;5;124m from \u001b[39m\u001b[38;5;132;01m{\u001b[39;00m\u001b[38;5;124m'\u001b[39m\u001b[38;5;124m, \u001b[39m\u001b[38;5;124m'\u001b[39m\u001b[38;5;241m.\u001b[39mjoin(\u001b[38;5;28mstr\u001b[39m(eq)\u001b[38;5;250m \u001b[39m\u001b[38;5;28;01mfor\u001b[39;00m\u001b[38;5;250m \u001b[39meq\u001b[38;5;250m \u001b[39m\u001b[38;5;129;01min\u001b[39;00m\u001b[38;5;250m \u001b[39mequations)\u001b[38;5;132;01m}\u001b[39;00m\u001b[38;5;124m\"\u001b[39m) \u001b[38;5;28;01mfrom\u001b[39;00m \u001b[38;5;21;01me\u001b[39;00m\n",
      "\u001b[0;31mProofException\u001b[0m: Cannot proof a * b * (a + b) * c == a * b * (a * c + b * c) from x * y * z == x * (y * z)"
     ]
    }
   ],
   "source": [
    "# Warning: this program takes very/infinitely long:\n",
    "prf = EqProof(p)\n",
    "prf += q, TH0.AX8"
   ]
  },
  {
   "cell_type": "code",
   "execution_count": 15,
   "metadata": {},
   "outputs": [
    {
     "name": "stdout",
     "output_type": "stream",
     "text": [
      "  a * b * (a + b) * c\n"
     ]
    }
   ],
   "source": [
    "# The proof was not extended:\n",
    "print(prf)"
   ]
  },
  {
   "cell_type": "markdown",
   "metadata": {},
   "source": [
    "The proof fails if `AX1` is provided as a justification"
   ]
  },
  {
   "cell_type": "code",
   "execution_count": 16,
   "metadata": {},
   "outputs": [
    {
     "ename": "ProofException",
     "evalue": "Cannot proof a * b * (a + b) * c == a * b * (a * c + b * c) from blocked * x == blocked",
     "output_type": "error",
     "traceback": [
      "\u001b[0;31m---------------------------------------------------------------------------\u001b[0m",
      "\u001b[0;31mProofException\u001b[0m                            Traceback (most recent call last)",
      "Cell \u001b[0;32mIn[16], line 2\u001b[0m\n\u001b[1;32m      1\u001b[0m prf \u001b[38;5;241m=\u001b[39m EqProof(p)\n\u001b[0;32m----> 2\u001b[0m prf \u001b[38;5;241m+\u001b[39m\u001b[38;5;241m=\u001b[39m q, TH0\u001b[38;5;241m.\u001b[39mAX1\n",
      "File \u001b[0;32m~/blaarkop/eqrw/process_theory.py:222\u001b[0m, in \u001b[0;36mEqProof.__iadd__\u001b[0;34m(self, other)\u001b[0m\n\u001b[1;32m    220\u001b[0m \u001b[38;5;28;01mif\u001b[39;00m \u001b[38;5;28mtype\u001b[39m(other) \u001b[38;5;129;01mis\u001b[39;00m \u001b[38;5;129;01mnot\u001b[39;00m \u001b[38;5;28mtuple\u001b[39m:\n\u001b[1;32m    221\u001b[0m     other \u001b[38;5;241m=\u001b[39m (other,)\n\u001b[0;32m--> 222\u001b[0m \u001b[38;5;28;01mreturn\u001b[39;00m \u001b[38;5;28;43mself\u001b[39;49m\u001b[38;5;241;43m.\u001b[39;49m\u001b[43m_extend_\u001b[49m\u001b[43m(\u001b[49m\u001b[43mother\u001b[49m\u001b[43m[\u001b[49m\u001b[38;5;241;43m0\u001b[39;49m\u001b[43m]\u001b[49m\u001b[43m,\u001b[49m\u001b[43m \u001b[49m\u001b[43mother\u001b[49m\u001b[43m[\u001b[49m\u001b[38;5;241;43m1\u001b[39;49m\u001b[43m:\u001b[49m\u001b[43m]\u001b[49m\u001b[43m)\u001b[49m\n",
      "File \u001b[0;32m~/blaarkop/eqrw/process_theory.py:209\u001b[0m, in \u001b[0;36mEqProof._extend_\u001b[0;34m(self, e, equations)\u001b[0m\n\u001b[1;32m    202\u001b[0m \u001b[38;5;250m\u001b[39m\u001b[38;5;124;03m'''Extends this proof by Process `e` and justification `equations`.\u001b[39;00m\n\u001b[1;32m    203\u001b[0m \n\u001b[1;32m    204\u001b[0m \u001b[38;5;124;03mReturns `self`.\u001b[39;00m\n\u001b[1;32m    205\u001b[0m \n\u001b[1;32m    206\u001b[0m \u001b[38;5;124;03mRaises a `ProofException` if z3 cannot prove `e` with the justification `equations`.\u001b[39;00m\n\u001b[1;32m    207\u001b[0m \u001b[38;5;124;03m'''\u001b[39;00m\n\u001b[1;32m    208\u001b[0m \u001b[38;5;28;01mif\u001b[39;00m \u001b[38;5;129;01mnot\u001b[39;00m \u001b[38;5;28mself\u001b[39m\u001b[38;5;241m.\u001b[39mverify_step(\u001b[38;5;28mself\u001b[39m\u001b[38;5;241m.\u001b[39mstep[\u001b[38;5;241m-\u001b[39m\u001b[38;5;241m1\u001b[39m], e, \u001b[38;5;241m*\u001b[39mequations):\n\u001b[0;32m--> 209\u001b[0m     \u001b[38;5;28;01mraise\u001b[39;00m ProofException(\u001b[38;5;124mf\u001b[39m\u001b[38;5;124m\"\u001b[39m\u001b[38;5;124mCannot proof \u001b[39m\u001b[38;5;132;01m{\u001b[39;00m\u001b[38;5;28mself\u001b[39m\u001b[38;5;241m.\u001b[39mstep[\u001b[38;5;241m-\u001b[39m\u001b[38;5;241m1\u001b[39m]\u001b[38;5;132;01m}\u001b[39;00m\u001b[38;5;124m == \u001b[39m\u001b[38;5;132;01m{\u001b[39;00me\u001b[38;5;132;01m}\u001b[39;00m\u001b[38;5;124m from \u001b[39m\u001b[38;5;132;01m{\u001b[39;00m\u001b[38;5;124m'\u001b[39m\u001b[38;5;124m, \u001b[39m\u001b[38;5;124m'\u001b[39m\u001b[38;5;241m.\u001b[39mjoin(\u001b[38;5;28mstr\u001b[39m(eq)\u001b[38;5;250m \u001b[39m\u001b[38;5;28;01mfor\u001b[39;00m\u001b[38;5;250m \u001b[39meq\u001b[38;5;250m \u001b[39m\u001b[38;5;129;01min\u001b[39;00m\u001b[38;5;250m \u001b[39mequations)\u001b[38;5;132;01m}\u001b[39;00m\u001b[38;5;124m\"\u001b[39m)\n\u001b[1;32m    210\u001b[0m \u001b[38;5;28mself\u001b[39m\u001b[38;5;241m.\u001b[39mstep\u001b[38;5;241m.\u001b[39mappend(e)\n\u001b[1;32m    211\u001b[0m \u001b[38;5;28mself\u001b[39m\u001b[38;5;241m.\u001b[39mjustification\u001b[38;5;241m.\u001b[39mappend(equations)\n",
      "\u001b[0;31mProofException\u001b[0m: Cannot proof a * b * (a + b) * c == a * b * (a * c + b * c) from blocked * x == blocked"
     ]
    }
   ],
   "source": [
    "prf = EqProof(p)\n",
    "prf += q, TH0.AX1"
   ]
  },
  {
   "cell_type": "code",
   "execution_count": 17,
   "metadata": {},
   "outputs": [
    {
     "name": "stdout",
     "output_type": "stream",
     "text": [
      "  a * b * (a + b) * c\n"
     ]
    }
   ],
   "source": [
    "# The proof was not extended:\n",
    "print(prf)"
   ]
  }
 ],
 "metadata": {
  "kernelspec": {
   "display_name": "pyenv",
   "language": "python",
   "name": "python3"
  },
  "language_info": {
   "codemirror_mode": {
    "name": "ipython",
    "version": 3
   },
   "file_extension": ".py",
   "mimetype": "text/x-python",
   "name": "python",
   "nbconvert_exporter": "python",
   "pygments_lexer": "ipython3",
   "version": "3.10.12"
  }
 },
 "nbformat": 4,
 "nbformat_minor": 2
}
