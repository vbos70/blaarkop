{
 "cells": [
  {
   "cell_type": "code",
   "execution_count": 1,
   "metadata": {},
   "outputs": [],
   "source": [
    "from z3 import *"
   ]
  },
  {
   "cell_type": "code",
   "execution_count": 2,
   "metadata": {},
   "outputs": [],
   "source": [
    "s = Solver()"
   ]
  },
  {
   "cell_type": "code",
   "execution_count": 3,
   "metadata": {},
   "outputs": [],
   "source": [
    "def split(l, n):\n",
    "    return [l[j:j+n] for j in range(0,len(l),n)]"
   ]
  },
  {
   "cell_type": "code",
   "execution_count": 4,
   "metadata": {},
   "outputs": [
    {
     "name": "stdout",
     "output_type": "stream",
     "text": [
      "__class__, __copy__, __deepcopy__, __del__, __delattr__, __dict__\n",
      "__dir__, __doc__, __enter__, __eq__, __exit__, __format__\n",
      "__ge__, __getattribute__, __gt__, __hash__, __iadd__, __init__\n",
      "__init_subclass__, __le__, __lt__, __module__, __ne__, __new__\n",
      "__reduce__, __reduce_ex__, __repr__, __setattr__, __sizeof__, __str__\n",
      "__subclasshook__, __weakref__, _repr_html_, add, append, assert_and_track\n",
      "assert_exprs, assertions, backtrack_level, check, consequences, ctx\n",
      "cube, cube_vars, dimacs, from_file, from_string, help\n",
      "import_model_converter, insert, interrupt, model, next, non_units\n",
      "num_scopes, param_descrs, pop, proof, push, reason_unknown\n",
      "reset, root, set, sexpr, solver, statistics\n",
      "to_smt2, trail, trail_levels, translate, units, unsat_core\n",
      "use_pp\n"
     ]
    }
   ],
   "source": [
    "print(\"\\n\".join(\", \".join(l) for l in split([n for n in dir(s)], 6)))"
   ]
  },
  {
   "cell_type": "code",
   "execution_count": 5,
   "metadata": {},
   "outputs": [
    {
     "name": "stdout",
     "output_type": "stream",
     "text": [
      "Help on method assertions in module z3.z3:\n",
      "\n",
      "assertions() method of z3.z3.Solver instance\n",
      "    Return an AST vector containing all added constraints.\n",
      "    \n",
      "    >>> s = Solver()\n",
      "    >>> s.assertions()\n",
      "    []\n",
      "    >>> a = Int('a')\n",
      "    >>> s.add(a > 0)\n",
      "    >>> s.add(a < 10)\n",
      "    >>> s.assertions()\n",
      "    [a > 0, a < 10]\n",
      "\n"
     ]
    }
   ],
   "source": [
    "help(s.assertions)"
   ]
  },
  {
   "cell_type": "code",
   "execution_count": 6,
   "metadata": {},
   "outputs": [
    {
     "name": "stdout",
     "output_type": "stream",
     "text": [
      "Help on method add in module z3.z3:\n",
      "\n",
      "add(*args) method of z3.z3.Solver instance\n",
      "    Assert constraints into the solver.\n",
      "    \n",
      "    >>> x = Int('x')\n",
      "    >>> s = Solver()\n",
      "    >>> s.add(x > 0, x < 2)\n",
      "    >>> s\n",
      "    [x > 0, x < 2]\n",
      "\n"
     ]
    }
   ],
   "source": [
    "help(s.add)"
   ]
  },
  {
   "cell_type": "code",
   "execution_count": 7,
   "metadata": {},
   "outputs": [],
   "source": [
    "x = Int('x')"
   ]
  },
  {
   "cell_type": "code",
   "execution_count": 8,
   "metadata": {},
   "outputs": [],
   "source": [
    "s.add(x>9)"
   ]
  },
  {
   "cell_type": "code",
   "execution_count": 9,
   "metadata": {},
   "outputs": [
    {
     "data": {
      "text/html": [
       "[x &gt; 9]"
      ],
      "text/plain": [
       "[x > 9]"
      ]
     },
     "execution_count": 9,
     "metadata": {},
     "output_type": "execute_result"
    }
   ],
   "source": [
    "s.assertions()"
   ]
  },
  {
   "cell_type": "code",
   "execution_count": 12,
   "metadata": {},
   "outputs": [
    {
     "name": "stdout",
     "output_type": "stream",
     "text": [
      "x = None\n"
     ]
    }
   ],
   "source": [
    "v =s.check()\n",
    "m = s.model()\n",
    "print (\"x = %s\" % m[x])"
   ]
  },
  {
   "cell_type": "code",
   "execution_count": 11,
   "metadata": {},
   "outputs": [],
   "source": [
    "x = Bool('x')"
   ]
  },
  {
   "cell_type": "code",
   "execution_count": 13,
   "metadata": {},
   "outputs": [],
   "source": [
    "s.add(Implies(x, False))"
   ]
  },
  {
   "cell_type": "code",
   "execution_count": 14,
   "metadata": {},
   "outputs": [
    {
     "data": {
      "text/html": [
       "[x &gt; 9, x &rArr; False]"
      ],
      "text/plain": [
       "[x > 9, Implies(x, False)]"
      ]
     },
     "execution_count": 14,
     "metadata": {},
     "output_type": "execute_result"
    }
   ],
   "source": [
    "s.assertions()"
   ]
  },
  {
   "cell_type": "code",
   "execution_count": 15,
   "metadata": {},
   "outputs": [
    {
     "name": "stdout",
     "output_type": "stream",
     "text": [
      "x = False\n"
     ]
    }
   ],
   "source": [
    "v =s.check()\n",
    "m = s.model()\n",
    "print (\"x = %s\" % m[x])"
   ]
  },
  {
   "cell_type": "code",
   "execution_count": 16,
   "metadata": {},
   "outputs": [
    {
     "data": {
      "text/plain": [
       "False"
      ]
     },
     "execution_count": 16,
     "metadata": {},
     "output_type": "execute_result"
    }
   ],
   "source": [
    "False > 9"
   ]
  },
  {
   "cell_type": "code",
   "execution_count": 39,
   "metadata": {},
   "outputs": [
    {
     "data": {
      "text/plain": [
       "['__class__',\n",
       " '__deepcopy__',\n",
       " '__delattr__',\n",
       " '__dict__',\n",
       " '__dir__',\n",
       " '__doc__',\n",
       " '__eq__',\n",
       " '__format__',\n",
       " '__ge__',\n",
       " '__getattribute__',\n",
       " '__gt__',\n",
       " '__hash__',\n",
       " '__init__',\n",
       " '__init_subclass__',\n",
       " '__le__',\n",
       " '__lt__',\n",
       " '__module__',\n",
       " '__ne__',\n",
       " '__new__',\n",
       " '__reduce__',\n",
       " '__reduce_ex__',\n",
       " '__repr__',\n",
       " '__setattr__',\n",
       " '__sizeof__',\n",
       " '__str__',\n",
       " '__subclasshook__',\n",
       " '__weakref__',\n",
       " '_repr_html_',\n",
       " 'r']"
      ]
     },
     "execution_count": 39,
     "metadata": {},
     "output_type": "execute_result"
    }
   ],
   "source": [
    "dir(mod"
   ]
  },
  {
   "cell_type": "code",
   "execution_count": null,
   "metadata": {},
   "outputs": [],
   "source": []
  }
 ],
 "metadata": {
  "kernelspec": {
   "display_name": "pyenv",
   "language": "python",
   "name": "python3"
  },
  "language_info": {
   "codemirror_mode": {
    "name": "ipython",
    "version": 3
   },
   "file_extension": ".py",
   "mimetype": "text/x-python",
   "name": "python",
   "nbconvert_exporter": "python",
   "pygments_lexer": "ipython3",
   "version": "3.10.1"
  }
 },
 "nbformat": 4,
 "nbformat_minor": 2
}
