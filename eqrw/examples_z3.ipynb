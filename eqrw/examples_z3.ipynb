{
 "cells": [
  {
   "cell_type": "code",
   "execution_count": 10,
   "metadata": {},
   "outputs": [],
   "source": [
    "from process import *"
   ]
  },
  {
   "cell_type": "code",
   "execution_count": 11,
   "metadata": {},
   "outputs": [],
   "source": [
    "a, b, c = actions('abc')"
   ]
  },
  {
   "cell_type": "code",
   "execution_count": 12,
   "metadata": {},
   "outputs": [],
   "source": [
    "p = a * b * (a + b)"
   ]
  },
  {
   "cell_type": "code",
   "execution_count": 13,
   "metadata": {},
   "outputs": [
    {
     "name": "stdout",
     "output_type": "stream",
     "text": [
      "a * b * (a + b)\n"
     ]
    }
   ],
   "source": [
    "print(p)"
   ]
  },
  {
   "cell_type": "code",
   "execution_count": 14,
   "metadata": {},
   "outputs": [],
   "source": [
    "A = Atom('A')"
   ]
  },
  {
   "cell_type": "code",
   "execution_count": 15,
   "metadata": {},
   "outputs": [
    {
     "name": "stdout",
     "output_type": "stream",
     "text": [
      "A\n"
     ]
    }
   ],
   "source": [
    "print(A)"
   ]
  },
  {
   "cell_type": "code",
   "execution_count": 16,
   "metadata": {},
   "outputs": [
    {
     "name": "stdout",
     "output_type": "stream",
     "text": [
      "A == a * A\n"
     ]
    }
   ],
   "source": [
    "eq_A = A == a * A\n",
    "print(eq_A)"
   ]
  },
  {
   "cell_type": "code",
   "execution_count": 17,
   "metadata": {},
   "outputs": [
    {
     "data": {
      "text/html": [
       "A = z3Seq(a, A)"
      ],
      "text/plain": [
       "A == z3Seq(a, A)"
      ]
     },
     "execution_count": 17,
     "metadata": {},
     "output_type": "execute_result"
    }
   ],
   "source": [
    "eq_A.z3expr"
   ]
  },
  {
   "cell_type": "code",
   "execution_count": 36,
   "metadata": {},
   "outputs": [
    {
     "name": "stdout",
     "output_type": "stream",
     "text": [
      "['x', 'y', 'z']\n",
      "['zero', 'one']\n",
      "# Variables\n",
      "x, y, z,\n",
      "# Atoms\n",
      "zero, one,\n",
      "# Axioms,\n",
      "AX1: zero * x == zero,\n",
      "AX2: one * x == x,\n",
      "AX3: x * one == x,\n",
      "AX4: x + zero == x,\n",
      "AX5: x + y == y + x,\n",
      "AX6: x + x == x,\n",
      "AX7: x + y + x == x + (y + z),\n",
      "AX8: x * y * z == x * (y * z),\n",
      "AX9: (x + y) * z == x * z + y * z\n"
     ]
    }
   ],
   "source": [
    "from utils import *\n",
    "from itertools import chain\n",
    "\n",
    "class Theory(AttrDict):\n",
    "\n",
    "    def __init__(self, **kws):\n",
    "        self._variables = None\n",
    "        if 'variables' in kws:\n",
    "            self._variables = kws['variables']\n",
    "            del kws['variables']\n",
    "        \n",
    "        self._atoms = None\n",
    "        if 'atoms' in kws:\n",
    "            self._atoms = kws['atoms']\n",
    "            del kws['atoms']\n",
    "                \n",
    "        super().__init__(**kws)\n",
    "\n",
    "\n",
    "    def variables(self):\n",
    "        if self._variables is None:\n",
    "            vs = []\n",
    "            for eq in self.values():\n",
    "                for v in chain(eq.lhs.vars(), eq.rhs.vars()):\n",
    "                    if v not in vs:\n",
    "                        vs.append(v)\n",
    "            self._variables = vs\n",
    "        return self._variables\n",
    "\n",
    "    def var_names(self):\n",
    "        '''compute list of process variables names'''\n",
    "        return [v.name for v in self.variables()]\n",
    "\n",
    "\n",
    "    def atoms(self):\n",
    "        if self._atoms is None:\n",
    "            ats = []\n",
    "            for eq in self.values():\n",
    "                for a in chain(eq.lhs.atoms(), eq.rhs.atoms()):\n",
    "                    if a not in ats:\n",
    "                        ats.append(a)\n",
    "            self._atoms = ats\n",
    "        return self._atoms\n",
    "\n",
    "\n",
    "    def atom_names(self):\n",
    "        '''compute list of process atoms names'''\n",
    "        return [a.name for a in self.atoms()]\n",
    "\n",
    "    def __str__(self):\n",
    "        result = []\n",
    "        vs = self.var_names()\n",
    "        if len(vs)>0:\n",
    "            result.append(f\"# Variables\\n{', '.join(vs)}\")\n",
    "        ats = self.atom_names()\n",
    "        if len(ats)>0:\n",
    "            result.append(f\"# Atoms\\n{', '.join(ats)}\")\n",
    "        result.append(\"# Axioms\")\n",
    "        result.extend(f'{ax}: {self[ax]}' for ax in self)\n",
    " \n",
    "        return \"\\n\".join(result)\n",
    "        \n",
    "\n",
    "x, y, z = vars('x, y, z')\n",
    "\n",
    "\n",
    "d = dict(a = 1, b = 3)\n",
    "TH1 = Theory(\n",
    "    variables = vars('x, y, z'),\n",
    "    atoms = atoms('zero, one'),\n",
    "    AX1 = zero * x == zero,\n",
    "    AX2 = one * x == x,\n",
    "    AX3 = x * one == x,\n",
    "    AX4 = x + zero == x,\n",
    "    AX5 = x + y == y + x,\n",
    "    AX6 = x + x == x,\n",
    "    AX7 = (x + y) + x == x + (y + z),\n",
    "    AX8 = (x * y) * z == x * (y * z),\n",
    "    AX9 = (x + y) * z == x * z + y * z\n",
    "    )\n",
    "\n",
    "print([v.name for v in TH1.variables()])\n",
    "print([a.name for a in TH1.atoms()])\n",
    "\n",
    "\n",
    "print(TH1)"
   ]
  },
  {
   "cell_type": "code",
   "execution_count": 19,
   "metadata": {},
   "outputs": [
    {
     "name": "stdout",
     "output_type": "stream",
     "text": [
      "{'y', 'x', 'z'}\n",
      "{'y', 'x', 'z'}\n"
     ]
    }
   ],
   "source": [
    "lvars = set([v.name for eq in TH1.values() for v in eq.lhs.vars()])\n",
    "rvars = set([v.name for eq in TH1.values() for v in eq.rhs.vars()])\n",
    "\n",
    "print(lvars)\n",
    "print(rvars)\n"
   ]
  },
  {
   "cell_type": "code",
   "execution_count": 20,
   "metadata": {},
   "outputs": [
    {
     "name": "stdout",
     "output_type": "stream",
     "text": [
      "z3Seq(z3Seq(x, y), z) == z3Seq(x, z3Seq(y, z))\n"
     ]
    }
   ],
   "source": [
    "print(TH1.AX8.z3expr)"
   ]
  },
  {
   "cell_type": "code",
   "execution_count": null,
   "metadata": {},
   "outputs": [],
   "source": []
  }
 ],
 "metadata": {
  "kernelspec": {
   "display_name": "pyenv",
   "language": "python",
   "name": "python3"
  },
  "language_info": {
   "codemirror_mode": {
    "name": "ipython",
    "version": 3
   },
   "file_extension": ".py",
   "mimetype": "text/x-python",
   "name": "python",
   "nbconvert_exporter": "python",
   "pygments_lexer": "ipython3",
   "version": "3.10.12"
  }
 },
 "nbformat": 4,
 "nbformat_minor": 2
}
