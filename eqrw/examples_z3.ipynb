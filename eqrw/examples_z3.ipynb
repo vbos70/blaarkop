{
 "cells": [
  {
   "cell_type": "code",
   "execution_count": 1,
   "metadata": {},
   "outputs": [],
   "source": [
    "from process import *\n",
    "from process_theory import *"
   ]
  },
  {
   "cell_type": "markdown",
   "metadata": {},
   "source": [
    "# Defining a process theory\n",
    "\n",
    "A process theory defines equations on processes. Processes are built up from atoms and process-operators. Atoms are divided into constants, variables, recursion-variables, and actions. A theory is an element of the `Theory` class. Its constructor takes zero of more keyword arguments. The arguments `conts` and `variables` give the lists of constants and variables of the theory. The remaining arguments are supposed to provide the axioms, i.e., process-equalities, of the theory. The following example shows how this works. \n",
    "\n",
    "TODO: add recursion-variables and actions!"
   ]
  },
  {
   "cell_type": "code",
   "execution_count": 2,
   "metadata": {},
   "outputs": [],
   "source": [
    "blocked, ready = consts('blocked, ready')\n",
    "x, y, z = vars('x, y, z')\n",
    "\n",
    "# (Python) variable TH0 is assigned a process-theory\n",
    "TH0 = Theory(\n",
    "    AX1 = blocked * x == blocked,\n",
    "    AX2 = ready * x == x,\n",
    "    AX3 = x * ready == x,\n",
    "    AX4 = x + blocked == x,\n",
    "    AX5 = x + y == y + x,\n",
    "    AX6 = x + x == x,\n",
    "    AX7 = (x + y) + x == x + (y + z),\n",
    "    AX8 = (x * y) * z == x * (y * z),\n",
    "    AX9 = (x + y) * z == x * z + y * z,\n",
    "    AX10 = Encap(blocked, x) == x,\n",
    "    AX11 = Encap(ready, x) == x,\n",
    "    # AX12 = Encap(x, blocked) == blocked,\n",
    "    AX13 = Encap(x, ready) == ready,\n",
    "    AX14 = Encap(x + y, z) == Encap(x, Encap(y, z)),\n",
    "    AX15 = Encap(x * y, z) == Encap(x, Encap(y, z)),\n",
    "\n",
    ")"
   ]
  },
  {
   "cell_type": "markdown",
   "metadata": {},
   "source": [
    "The variables stand for arbitrary processes. Therefore, an axiom `AX1 = blocked * x == blocked` means that for all processes `x`, `blocked * x` is equal to `blocked`. The `*` process-operator is sequential composition. The meaning of `x * y` is the behaviour of `x` followed by the behaviour of `y`. If `x` is `blocked`, then `x * y` will never start the behaviour of `y`.\n",
    "\n",
    "> The expressions in `Theory`s are normal Python expressions. Therefore, atoms and variables follow the syntax of Python variables and process-operators are limited to the Python operators defined on `CoreProcess`es: `+`, `*`, and `|`."
   ]
  },
  {
   "cell_type": "code",
   "execution_count": 3,
   "metadata": {},
   "outputs": [
    {
     "name": "stdout",
     "output_type": "stream",
     "text": [
      "blocked * x == blocked\n",
      "x + x == x\n",
      "AX1 lhs: blocked * x, AX1 rhs: blocked\n",
      "AX6 lhs: x + x, AX1 rhs: x\n"
     ]
    }
   ],
   "source": [
    "# attribute-access can be used for the theory's axioms\n",
    "print(TH0.AX1)\n",
    "print(TH0.AX6)\n",
    "\n",
    "# and axiom has a left-hand side and a right-hand side, which\n",
    "# can be accessed by lhs and rhs, respectively.\n",
    "\n",
    "print(f'AX1 lhs: {TH0.AX1.lhs}, AX1 rhs: {TH0.AX1.rhs}')\n",
    "print(f'AX6 lhs: {TH0.AX6.lhs}, AX1 rhs: {TH0.AX6.rhs}')\n",
    "\n",
    "assert blocked in TH0.constants()\n",
    "assert ready in TH0.constants()\n",
    "\n",
    "for v in [x,y,z]:\n",
    "    assert v in TH0.variables()\n",
    " "
   ]
  },
  {
   "cell_type": "markdown",
   "metadata": {},
   "source": [
    "## Actions\n",
    "\n",
    "Process theories can be used to model system behaviour. The smallest unit of system behaviour is called an *action*. In process theories, actions are assumed to be provided by the user. The function `atomic_actions()` is similar to the `atoms()` and `vars()` functions above, but instead of defining atoms or variables, it defines actions. The intention is that these actions capture the smallest units of behaviour of the system."
   ]
  },
  {
   "cell_type": "code",
   "execution_count": 4,
   "metadata": {},
   "outputs": [],
   "source": [
    "# define three actions\n",
    "a,b,c = atomic_actions('a, b, c')\n",
    "\n",
    "# create a process p built up from the actions\n",
    "p = a * b * (a + b) * c"
   ]
  },
  {
   "cell_type": "code",
   "execution_count": 5,
   "metadata": {},
   "outputs": [
    {
     "name": "stdout",
     "output_type": "stream",
     "text": [
      "a * b * (a + b) * c\n"
     ]
    }
   ],
   "source": [
    "print(p)"
   ]
  },
  {
   "cell_type": "markdown",
   "metadata": {},
   "source": [
    "`p` is a process that starts with action `a`, then `b` and then either an `a` or a `b` and finally a `c`. Another way to model this behaviour is by a process that starts with action `a`, then  `b`, and then `a`-followed-by-`c` or `b`-followed-by-`c`, as defined by process `q` below.  "
   ]
  },
  {
   "cell_type": "code",
   "execution_count": 6,
   "metadata": {},
   "outputs": [],
   "source": [
    "q = a * b * (a * c + b * c)"
   ]
  },
  {
   "cell_type": "markdown",
   "metadata": {},
   "source": [
    "# Proofs\n",
    "\n",
    "Process `p` and `q` model the same behaviour. However, their definitions are not exactly the same. We can prove `p == q` by using axioms `AX8` and `AX9` of theory `TH0`:"
   ]
  },
  {
   "cell_type": "code",
   "execution_count": 7,
   "metadata": {},
   "outputs": [],
   "source": [
    "prf = EqProof(p)\n",
    "prf += a * b * ((a + b) * c), TH0.AX8\n",
    "prf += q, TH0.AX9"
   ]
  },
  {
   "cell_type": "markdown",
   "metadata": {},
   "source": [
    "The `prf` represents an equational proof (on processes). The typical style of equational proofs becomes visible if we print the proof:"
   ]
  },
  {
   "cell_type": "code",
   "execution_count": 8,
   "metadata": {},
   "outputs": [
    {
     "name": "stdout",
     "output_type": "stream",
     "text": [
      "  a * b * (a + b) * c\n",
      "= {x * y * z == x * (y * z)}\n",
      "  a * b * ((a + b) * c)\n",
      "= {(x + y) * z == x * z + y * z}\n",
      "  a * b * (a * c + b * c)\n"
     ]
    }
   ],
   "source": [
    "print(prf)"
   ]
  },
  {
   "cell_type": "markdown",
   "metadata": {},
   "source": [
    "## Constructing Equational Proofs\n",
    "\n",
    "The constructor `EqProof()` takes the initial process term as an argument. New process terms can be added to the proof by the `_ += _` in-place-add operator (Python's `__iadd__()` function). It takes the current proof, the target / next process term and zero or more \"justifications\" as arguments:\n",
    "\n",
    "    prf += pnext, J1, ..., Jn\n",
    "\n",
    "The in-place-add operation succeeds if `prf` can be extended to `pnext` by applying the equations listed in justifications `J1`..`Jn`.\n",
    "\n",
    "> Note: The `_ += _` operator to extend equational proofs uses Z3, see [Introduction | Online Z3 Guide](https://microsoft.github.io/z3guide/programming/Z3%20Python%20-%20Readonly/Introduction/), to verify that the given target can be proven. In addition to the given justifications `J1`..`Jn`, also Z3's built-in rules will be used in the verification. The built-in rules are mostly for numerical calculations.\n",
    "\n",
    "In the example above, the proof is extended twice. First by applying `AX8` and then by applying `AX9`.\n",
    "\n",
    "If `pnext` cannot be proven by `J1`..`Jn`, then an exception is raised. It might take quite long before this happens. The exception or the computation does not end (in which case there will be a lower-level exception indicating some kind of overflow or memory shortage).\n",
    "\n",
    "\n",
    "## Shortening the proof\n",
    "\n",
    "The two steps in the proof above can be combined into one by providing both axioms at the same time:"
   ]
  },
  {
   "cell_type": "code",
   "execution_count": 9,
   "metadata": {},
   "outputs": [
    {
     "name": "stdout",
     "output_type": "stream",
     "text": [
      "  a * b * (a + b) * c\n",
      "= {x * y * z == x * (y * z), (x + y) * z == x * z + y * z}\n",
      "  a * b * (a * c + b * c)\n"
     ]
    }
   ],
   "source": [
    "prf = EqProof(p)\n",
    "prf += q, TH0.AX8, TH0.AX9\n",
    "print(prf)"
   ]
  },
  {
   "cell_type": "markdown",
   "metadata": {},
   "source": [
    "## Failing proofs\n",
    "\n",
    "If you try to extend a proof, but the target cannot be derived from the proof's current final process term using the justifications given, the proof extension fails and an `EqProofException` is raised. For instance, the proof above fails if `AX9` is but `AX8` is not provided as a justification:"
   ]
  },
  {
   "cell_type": "code",
   "execution_count": 10,
   "metadata": {},
   "outputs": [
    {
     "name": "stdout",
     "output_type": "stream",
     "text": [
      "Proof timeout: 120.0s\n",
      "The proof is:\n",
      "  a * b * (a + b) * c\n",
      "= {x * y * z == x * (y * z), (x + y) * z == x * z + y * z}\n",
      "  a * b * (a * c + b * c)\n"
     ]
    },
    {
     "name": "stdout",
     "output_type": "stream",
     "text": [
      "<ProofTimeoutError>: Cannot proof a * b * (a + b) * c == a * b * (a * c + b * c) within 2.0s from (x + y) * z == x * z + y * z\n",
      "The proof was not changed:\n",
      "  a * b * (a + b) * c\n"
     ]
    }
   ],
   "source": [
    "# The proof attempt below will be aborted because of the *proof timeout*. This means \n",
    "# that the Z3 solver cannot proof the step with the proof timeout.\n",
    "# Normally the proof timeout is 2 minutes.\n",
    "print(f\"Proof timeout: {timeout()}s\" )\n",
    "\n",
    "# Now we set it to 2 seconds:\n",
    "set_timeout(2)\n",
    "\n",
    "print(\"The proof is:\")\n",
    "print(prf)\n",
    "\n",
    "# Exception handler added, because the proof is expected to fail\n",
    "try:\n",
    "    prf = EqProof(p)\n",
    "    prf += q, TH0.AX9\n",
    "    assert False, \"this shall not happen\"\n",
    "except ProofException as pe:\n",
    "    print(pe)\n",
    "\n",
    "# The proof was not extended:\n",
    "print(\"The proof was not changed:\")\n",
    "print(prf)"
   ]
  },
  {
   "cell_type": "markdown",
   "metadata": {},
   "source": [
    "The proof also fails if `AX8` is but `AX9` is not provided as a justification:"
   ]
  },
  {
   "cell_type": "code",
   "execution_count": 11,
   "metadata": {},
   "outputs": [
    {
     "name": "stdout",
     "output_type": "stream",
     "text": [
      "<ProofTimeoutError>: Cannot proof a * b * (a + b) * c == a * b * (a * c + b * c) within 2.0s from x * y * z == x * (y * z)\n",
      "The proof was not changed:\n",
      "  a * b * (a + b) * c\n"
     ]
    }
   ],
   "source": [
    "# Exception handler added, because the proof is expected to fail\n",
    "try:\n",
    "    prf = EqProof(p)\n",
    "    prf += q, TH0.AX8\n",
    "    assert False, \"this shall not happen\"\n",
    "except ProofException as pe:\n",
    "    print(pe)\n",
    "\n",
    "# The proof was not extended:\n",
    "print(\"The proof was not changed:\")\n",
    "print(prf)"
   ]
  },
  {
   "cell_type": "markdown",
   "metadata": {},
   "source": [
    "The proof fails if `AX1` is provided as a justification"
   ]
  },
  {
   "cell_type": "code",
   "execution_count": 12,
   "metadata": {},
   "outputs": [
    {
     "name": "stdout",
     "output_type": "stream",
     "text": [
      "<ProofError>: Cannot proof a * b * (a + b) * c == a * b * (a * c + b * c) from blocked * x == blocked\n",
      "The proof was not changed:\n",
      "  a * b * (a + b) * c\n"
     ]
    }
   ],
   "source": [
    "# Exception handler added, because the proof is expected to fail\n",
    "try:\n",
    "    prf = EqProof(p)\n",
    "    prf += q, TH0.AX1\n",
    "    assert False, \"this shall not happen\"\n",
    "except ProofException as pe:\n",
    "    print(pe)\n",
    "\n",
    "# The proof was not extended:\n",
    "print(\"The proof was not changed:\")\n",
    "print(prf)"
   ]
  },
  {
   "cell_type": "markdown",
   "metadata": {},
   "source": [
    "Note that this is a `<ProofError>` instead of a `<ProofTimeoutError>` as before. So, here the Z3 solver determined within `timeout()` seconds that the step cannot be proven."
   ]
  },
  {
   "cell_type": "markdown",
   "metadata": {},
   "source": []
  }
 ],
 "metadata": {
  "kernelspec": {
   "display_name": "pyenv",
   "language": "python",
   "name": "python3"
  },
  "language_info": {
   "codemirror_mode": {
    "name": "ipython",
    "version": 3
   },
   "file_extension": ".py",
   "mimetype": "text/x-python",
   "name": "python",
   "nbconvert_exporter": "python",
   "pygments_lexer": "ipython3",
   "version": "3.10.12"
  }
 },
 "nbformat": 4,
 "nbformat_minor": 2
}
