{
 "cells": [
  {
   "cell_type": "code",
   "execution_count": 1,
   "metadata": {},
   "outputs": [],
   "source": [
    "from process import *\n",
    "from process_theory import *"
   ]
  },
  {
   "cell_type": "code",
   "execution_count": 2,
   "metadata": {},
   "outputs": [],
   "source": [
    "P0, P1 = atoms('P0, P1')\n",
    "x, y, z = vars('x, y, z')\n",
    "\n",
    "TH0 = Theory(\n",
    "    atoms = 'P0, P1',\n",
    "    variables = 'x, y, z',\n",
    "    AX1 = P0 * x == P0,\n",
    "    AX2 = P1 * x == x,\n",
    "    AX3 = x * P1 == x,\n",
    "    AX4 = x + P0 == x,\n",
    "    AX5 = x + y == y + x,\n",
    "    AX6 = x + x == x,\n",
    "    AX7 = (x + y) + x == x + (y + z),\n",
    "    AX8 = (x * y) * z == x * (y * z),\n",
    "    AX9 = (x + y) * z == x * z + y * z\n",
    "     \n",
    ")"
   ]
  },
  {
   "cell_type": "code",
   "execution_count": 3,
   "metadata": {},
   "outputs": [],
   "source": [
    "a,b,c = actions('a, b, c')\n",
    "p = a * b * (a + b)"
   ]
  },
  {
   "cell_type": "code",
   "execution_count": 4,
   "metadata": {},
   "outputs": [
    {
     "name": "stdout",
     "output_type": "stream",
     "text": [
      "a * b * (a + b)\n"
     ]
    }
   ],
   "source": [
    "print(p)"
   ]
  },
  {
   "cell_type": "code",
   "execution_count": 5,
   "metadata": {},
   "outputs": [],
   "source": [
    "prf = EqProof(a + a)\n",
    "prf += a, TH0.AX6"
   ]
  },
  {
   "cell_type": "code",
   "execution_count": 6,
   "metadata": {},
   "outputs": [
    {
     "name": "stdout",
     "output_type": "stream",
     "text": [
      "  a + a\n",
      "= {x + x == x}\n",
      "  a\n"
     ]
    }
   ],
   "source": [
    "print(prf)"
   ]
  },
  {
   "cell_type": "code",
   "execution_count": 7,
   "metadata": {},
   "outputs": [
    {
     "name": "stdout",
     "output_type": "stream",
     "text": [
      "  (a * P1 * b + P1 * P0 * c) * a\n",
      "= {P1 * x == x}\n",
      "  (a * P1 * b + P0 * c) * a\n",
      "= {x * P1 == x}\n",
      "  (a * b + P0 * c) * a\n",
      "= {P0 * x == P0}\n",
      "  (a * b + P0) * a\n",
      "= {x + P0 == x}\n",
      "  a * b * a\n"
     ]
    }
   ],
   "source": [
    "prf = EqProof((a * P1 * b + P1 * P0 * c) * a)\n",
    "prf += (a * P1 * b + P0 * c) * a, TH0.AX2\n",
    "prf += (a * b + P0 * c) * a, TH0.AX3\n",
    "prf += (a * b + P0) * a, TH0.AX1\n",
    "prf += a * b * a, TH0.AX4\n",
    "print(prf)"
   ]
  },
  {
   "cell_type": "markdown",
   "metadata": {},
   "source": [
    "# Shortening the proof"
   ]
  },
  {
   "cell_type": "markdown",
   "metadata": {},
   "source": [
    "The number of steps in a proof can be reduced by using more than one axiom at a time. The previous proof can be done in one step by using the four applied axioms at once:"
   ]
  },
  {
   "cell_type": "code",
   "execution_count": 8,
   "metadata": {},
   "outputs": [
    {
     "name": "stdout",
     "output_type": "stream",
     "text": [
      "  (a * P1 * b + P1 * P0 * c) * a\n",
      "= {P0 * x == P0, P1 * x == x, x * P1 == x, x + P0 == x}\n",
      "  a * b * a\n"
     ]
    }
   ],
   "source": [
    "prf = EqProof((a * P1 * b + P1 * P0 * c) * a)\n",
    "prf += a * b * a, TH0.AX1, TH0.AX2, TH0.AX3, TH0.AX4\n",
    "print(prf)"
   ]
  },
  {
   "cell_type": "code",
   "execution_count": 9,
   "metadata": {},
   "outputs": [],
   "source": [
    "acts = actions(\", \".join(f'a_{i}' for i in range(10)))"
   ]
  },
  {
   "cell_type": "markdown",
   "metadata": {},
   "source": [
    "## Proof limitations\n",
    "\n",
    "The Z3 prover does not always give a result. In some situations, it crashes. After ~1.5 minutes, the following proof step results in a `Z3Exception` with the error message \"Overflow encountered when expanding vector\"."
   ]
  },
  {
   "cell_type": "code",
   "execution_count": 14,
   "metadata": {},
   "outputs": [
    {
     "ename": "Z3Exception",
     "evalue": "b'Overflow encountered when expanding vector'",
     "output_type": "error",
     "traceback": [
      "\u001b[0;31m---------------------------------------------------------------------------\u001b[0m",
      "\u001b[0;31mZ3Exception\u001b[0m                               Traceback (most recent call last)",
      "Cell \u001b[0;32mIn[14], line 2\u001b[0m\n\u001b[1;32m      1\u001b[0m prf \u001b[38;5;241m=\u001b[39m EqProof((a \u001b[38;5;241m*\u001b[39m P1 \u001b[38;5;241m*\u001b[39m b \u001b[38;5;241m+\u001b[39m P1 \u001b[38;5;241m*\u001b[39m P0 \u001b[38;5;241m*\u001b[39m c) \u001b[38;5;241m*\u001b[39m a)\n\u001b[0;32m----> 2\u001b[0m prf \u001b[38;5;241m+\u001b[39m\u001b[38;5;241m=\u001b[39m a \u001b[38;5;241m*\u001b[39m b \u001b[38;5;241m*\u001b[39m a, TH0\u001b[38;5;241m.\u001b[39mAX1, TH0\u001b[38;5;241m.\u001b[39mAX8\n\u001b[1;32m      3\u001b[0m \u001b[38;5;28mprint\u001b[39m(prf)\n",
      "File \u001b[0;32m~/blaarkop/eqrw/process_theory.py:162\u001b[0m, in \u001b[0;36mEqProof.__iadd__\u001b[0;34m(self, other)\u001b[0m\n\u001b[1;32m    160\u001b[0m \u001b[38;5;28;01mif\u001b[39;00m \u001b[38;5;28mtype\u001b[39m(other) \u001b[38;5;129;01mis\u001b[39;00m \u001b[38;5;129;01mnot\u001b[39;00m \u001b[38;5;28mtuple\u001b[39m:\n\u001b[1;32m    161\u001b[0m     other \u001b[38;5;241m=\u001b[39m (other,)\n\u001b[0;32m--> 162\u001b[0m \u001b[38;5;28;01mreturn\u001b[39;00m \u001b[38;5;28;43mself\u001b[39;49m\u001b[38;5;241;43m.\u001b[39;49m\u001b[43m_extend_\u001b[49m\u001b[43m(\u001b[49m\u001b[43mother\u001b[49m\u001b[43m[\u001b[49m\u001b[38;5;241;43m0\u001b[39;49m\u001b[43m]\u001b[49m\u001b[43m,\u001b[49m\u001b[43m \u001b[49m\u001b[43mother\u001b[49m\u001b[43m[\u001b[49m\u001b[38;5;241;43m1\u001b[39;49m\u001b[43m:\u001b[49m\u001b[43m]\u001b[49m\u001b[43m)\u001b[49m\n",
      "File \u001b[0;32m~/blaarkop/eqrw/process_theory.py:148\u001b[0m, in \u001b[0;36mEqProof._extend_\u001b[0;34m(self, e, cs)\u001b[0m\n\u001b[1;32m    145\u001b[0m z3equations \u001b[38;5;241m=\u001b[39m [ForAll(z3variables, e\u001b[38;5;241m.\u001b[39mz3expr) \u001b[38;5;28;01mfor\u001b[39;00m e \u001b[38;5;129;01min\u001b[39;00m equations]\n\u001b[1;32m    146\u001b[0m step \u001b[38;5;241m=\u001b[39m \u001b[38;5;28mself\u001b[39m\u001b[38;5;241m.\u001b[39mstep[\u001b[38;5;241m-\u001b[39m\u001b[38;5;241m1\u001b[39m] \u001b[38;5;241m==\u001b[39m e\n\u001b[0;32m--> 148\u001b[0m \u001b[38;5;28;01mif\u001b[39;00m \u001b[38;5;129;01mnot\u001b[39;00m \u001b[43mz3_prove\u001b[49m\u001b[43m(\u001b[49m\u001b[43mstep\u001b[49m\u001b[38;5;241;43m.\u001b[39;49m\u001b[43mz3expr\u001b[49m\u001b[43m,\u001b[49m\u001b[43m \u001b[49m\u001b[43mz3equations\u001b[49m\u001b[43m)\u001b[49m:\n\u001b[1;32m    149\u001b[0m     \u001b[38;5;28;01mraise\u001b[39;00m EqProofException(\u001b[38;5;124mf\u001b[39m\u001b[38;5;124m\"\u001b[39m\u001b[38;5;124mCannot proof \u001b[39m\u001b[38;5;132;01m{\u001b[39;00m\u001b[38;5;28mself\u001b[39m\u001b[38;5;241m.\u001b[39mstep[\u001b[38;5;241m-\u001b[39m\u001b[38;5;241m1\u001b[39m]\u001b[38;5;132;01m}\u001b[39;00m\u001b[38;5;124m == \u001b[39m\u001b[38;5;132;01m{\u001b[39;00me\u001b[38;5;132;01m}\u001b[39;00m\u001b[38;5;124m from \u001b[39m\u001b[38;5;132;01m{\u001b[39;00m\u001b[38;5;124m'\u001b[39m\u001b[38;5;124m, \u001b[39m\u001b[38;5;124m'\u001b[39m\u001b[38;5;241m.\u001b[39mjoin(\u001b[38;5;28mstr\u001b[39m(eq)\u001b[38;5;250m \u001b[39m\u001b[38;5;28;01mfor\u001b[39;00m\u001b[38;5;250m \u001b[39meq\u001b[38;5;250m \u001b[39m\u001b[38;5;129;01min\u001b[39;00m\u001b[38;5;250m \u001b[39mequations)\u001b[38;5;132;01m}\u001b[39;00m\u001b[38;5;124m\"\u001b[39m)\n\u001b[1;32m    150\u001b[0m \u001b[38;5;28mself\u001b[39m\u001b[38;5;241m.\u001b[39mstep\u001b[38;5;241m.\u001b[39mappend(e)\n",
      "File \u001b[0;32m~/blaarkop/eqrw/eqrw.py:21\u001b[0m, in \u001b[0;36mz3_prove\u001b[0;34m(formula, solver, *eqs)\u001b[0m\n\u001b[1;32m     19\u001b[0m solver\u001b[38;5;241m.\u001b[39mpush()\n\u001b[1;32m     20\u001b[0m solver\u001b[38;5;241m.\u001b[39madd(\u001b[38;5;241m*\u001b[39meqs)\n\u001b[0;32m---> 21\u001b[0m result \u001b[38;5;241m=\u001b[39m \u001b[38;5;129;01mnot\u001b[39;00m (\u001b[43msolver\u001b[49m\u001b[38;5;241;43m.\u001b[39;49m\u001b[43mcheck\u001b[49m\u001b[43m(\u001b[49m\u001b[43mz3\u001b[49m\u001b[38;5;241;43m.\u001b[39;49m\u001b[43mNot\u001b[49m\u001b[43m(\u001b[49m\u001b[43mformula\u001b[49m\u001b[43m)\u001b[49m\u001b[43m)\u001b[49m \u001b[38;5;241m==\u001b[39m z3\u001b[38;5;241m.\u001b[39msat) \n\u001b[1;32m     22\u001b[0m solver\u001b[38;5;241m.\u001b[39mpop()\n\u001b[1;32m     23\u001b[0m \u001b[38;5;28;01mreturn\u001b[39;00m result\n",
      "File \u001b[0;32m~/blaarkop/eqrw/pyenv/lib/python3.10/site-packages/z3/z3.py:7174\u001b[0m, in \u001b[0;36mSolver.check\u001b[0;34m(self, *assumptions)\u001b[0m\n\u001b[1;32m   7172\u001b[0m \u001b[38;5;28;01mfor\u001b[39;00m i \u001b[38;5;129;01min\u001b[39;00m \u001b[38;5;28mrange\u001b[39m(num):\n\u001b[1;32m   7173\u001b[0m     _assumptions[i] \u001b[38;5;241m=\u001b[39m s\u001b[38;5;241m.\u001b[39mcast(assumptions[i])\u001b[38;5;241m.\u001b[39mas_ast()\n\u001b[0;32m-> 7174\u001b[0m r \u001b[38;5;241m=\u001b[39m \u001b[43mZ3_solver_check_assumptions\u001b[49m\u001b[43m(\u001b[49m\u001b[38;5;28;43mself\u001b[39;49m\u001b[38;5;241;43m.\u001b[39;49m\u001b[43mctx\u001b[49m\u001b[38;5;241;43m.\u001b[39;49m\u001b[43mref\u001b[49m\u001b[43m(\u001b[49m\u001b[43m)\u001b[49m\u001b[43m,\u001b[49m\u001b[43m \u001b[49m\u001b[38;5;28;43mself\u001b[39;49m\u001b[38;5;241;43m.\u001b[39;49m\u001b[43msolver\u001b[49m\u001b[43m,\u001b[49m\u001b[43m \u001b[49m\u001b[43mnum\u001b[49m\u001b[43m,\u001b[49m\u001b[43m \u001b[49m\u001b[43m_assumptions\u001b[49m\u001b[43m)\u001b[49m\n\u001b[1;32m   7175\u001b[0m \u001b[38;5;28;01mreturn\u001b[39;00m CheckSatResult(r)\n",
      "File \u001b[0;32m~/blaarkop/eqrw/pyenv/lib/python3.10/site-packages/z3/z3core.py:4236\u001b[0m, in \u001b[0;36mZ3_solver_check_assumptions\u001b[0;34m(a0, a1, a2, a3, _elems)\u001b[0m\n\u001b[1;32m   4234\u001b[0m \u001b[38;5;28;01mdef\u001b[39;00m \u001b[38;5;21mZ3_solver_check_assumptions\u001b[39m(a0, a1, a2, a3, _elems\u001b[38;5;241m=\u001b[39mElementaries(_lib\u001b[38;5;241m.\u001b[39mZ3_solver_check_assumptions)):\n\u001b[1;32m   4235\u001b[0m   r \u001b[38;5;241m=\u001b[39m _elems\u001b[38;5;241m.\u001b[39mf(a0, a1, a2, a3)\n\u001b[0;32m-> 4236\u001b[0m   \u001b[43m_elems\u001b[49m\u001b[38;5;241;43m.\u001b[39;49m\u001b[43mCheck\u001b[49m\u001b[43m(\u001b[49m\u001b[43ma0\u001b[49m\u001b[43m)\u001b[49m\n\u001b[1;32m   4237\u001b[0m   \u001b[38;5;28;01mreturn\u001b[39;00m r\n",
      "File \u001b[0;32m~/blaarkop/eqrw/pyenv/lib/python3.10/site-packages/z3/z3core.py:1554\u001b[0m, in \u001b[0;36mElementaries.Check\u001b[0;34m(self, ctx)\u001b[0m\n\u001b[1;32m   1552\u001b[0m err \u001b[38;5;241m=\u001b[39m \u001b[38;5;28mself\u001b[39m\u001b[38;5;241m.\u001b[39mget_error_code(ctx)\n\u001b[1;32m   1553\u001b[0m \u001b[38;5;28;01mif\u001b[39;00m err \u001b[38;5;241m!=\u001b[39m \u001b[38;5;28mself\u001b[39m\u001b[38;5;241m.\u001b[39mOK:\n\u001b[0;32m-> 1554\u001b[0m     \u001b[38;5;28;01mraise\u001b[39;00m \u001b[38;5;28mself\u001b[39m\u001b[38;5;241m.\u001b[39mException(\u001b[38;5;28mself\u001b[39m\u001b[38;5;241m.\u001b[39mget_error_message(ctx, err))\n",
      "\u001b[0;31mZ3Exception\u001b[0m: b'Overflow encountered when expanding vector'"
     ]
    }
   ],
   "source": [
    "prf = EqProof((a * P1 * b + P1 * P0 * c) * a)\n",
    "prf += a * b * a, TH0.AX1, TH0.AX8\n",
    "print(prf)"
   ]
  },
  {
   "cell_type": "code",
   "execution_count": 10,
   "metadata": {},
   "outputs": [
    {
     "name": "stdout",
     "output_type": "stream",
     "text": [
      "a_0\n",
      "a_1\n",
      "a_2\n",
      "a_3\n",
      "a_4\n",
      "a_5\n",
      "a_6\n",
      "a_7\n",
      "a_8\n",
      "a_9\n"
     ]
    }
   ],
   "source": [
    "_ = [print(a) for a in acts]"
   ]
  },
  {
   "cell_type": "code",
   "execution_count": null,
   "metadata": {},
   "outputs": [],
   "source": []
  }
 ],
 "metadata": {
  "kernelspec": {
   "display_name": "pyenv",
   "language": "python",
   "name": "python3"
  },
  "language_info": {
   "codemirror_mode": {
    "name": "ipython",
    "version": 3
   },
   "file_extension": ".py",
   "mimetype": "text/x-python",
   "name": "python",
   "nbconvert_exporter": "python",
   "pygments_lexer": "ipython3",
   "version": "3.10.12"
  }
 },
 "nbformat": 4,
 "nbformat_minor": 2
}
