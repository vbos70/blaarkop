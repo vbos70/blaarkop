{
 "cells": [
  {
   "cell_type": "code",
   "execution_count": 1,
   "metadata": {},
   "outputs": [],
   "source": [
    "from process import *"
   ]
  },
  {
   "cell_type": "code",
   "execution_count": 2,
   "metadata": {},
   "outputs": [],
   "source": [
    "a, b, c = actions('abc')"
   ]
  },
  {
   "cell_type": "code",
   "execution_count": 3,
   "metadata": {},
   "outputs": [],
   "source": [
    "p = a * b * (a + b)"
   ]
  },
  {
   "cell_type": "code",
   "execution_count": 4,
   "metadata": {},
   "outputs": [
    {
     "name": "stdout",
     "output_type": "stream",
     "text": [
      "a * b * (a + b)\n"
     ]
    }
   ],
   "source": [
    "print(p)"
   ]
  },
  {
   "cell_type": "code",
   "execution_count": 5,
   "metadata": {},
   "outputs": [],
   "source": [
    "A = Atom('A')"
   ]
  },
  {
   "cell_type": "code",
   "execution_count": 6,
   "metadata": {},
   "outputs": [
    {
     "name": "stdout",
     "output_type": "stream",
     "text": [
      "A\n"
     ]
    }
   ],
   "source": [
    "print(A)"
   ]
  },
  {
   "cell_type": "code",
   "execution_count": 7,
   "metadata": {},
   "outputs": [
    {
     "name": "stdout",
     "output_type": "stream",
     "text": [
      "A == a * A\n"
     ]
    }
   ],
   "source": [
    "eq_A = A == a * A\n",
    "print(eq_A)"
   ]
  },
  {
   "cell_type": "code",
   "execution_count": 8,
   "metadata": {},
   "outputs": [
    {
     "data": {
      "text/html": [
       "A = z3Seq(a, A)"
      ],
      "text/plain": [
       "A == z3Seq(a, A)"
      ]
     },
     "execution_count": 8,
     "metadata": {},
     "output_type": "execute_result"
    }
   ],
   "source": [
    "eq_A.z3expr"
   ]
  },
  {
   "cell_type": "code",
   "execution_count": 13,
   "metadata": {},
   "outputs": [
    {
     "name": "stdout",
     "output_type": "stream",
     "text": [
      "<bound method Theory.vars of {'AX1': <process.ProcessEquality object at 0x7f4a2c6c7130>, 'AX2': <process.ProcessEquality object at 0x7f4a2c359600>, 'AX3': <process.ProcessEquality object at 0x7f4a2c328b20>, 'AX4': <process.ProcessEquality object at 0x7f4a2c329600>, 'AX5': <process.ProcessEquality object at 0x7f4a2c311c60>, 'AX6': <process.ProcessEquality object at 0x7f4a2c313880>, 'AX7': <process.ProcessEquality object at 0x7f4a2c398df0>, 'AX8': <process.ProcessEquality object at 0x7f4a2c1fee90>, 'AX9': <process.ProcessEquality object at 0x7f4a2c26e230>}>\n"
     ]
    }
   ],
   "source": [
    "from utils import *\n",
    "\n",
    "\n",
    "class Theory(AttrDict):\n",
    "\n",
    "    def vars(self):\n",
    "        return 'compute list of process variables'\n",
    "\n",
    "    def atoms(self):\n",
    "        return 'compute list of process atoms'\n",
    "\n",
    "x, y, z = vars('x, y, z')\n",
    "\n",
    "\n",
    "d = dict(a = 1, b = 3)\n",
    "TH1 = Theory(\n",
    "    AX1 = zero * x == zero,\n",
    "    AX2 = one * x == x,\n",
    "    AX3 = x * one == x,\n",
    "    AX4 = x + zero == x,\n",
    "    AX5 = x + y == y + x,\n",
    "    AX6 = x + x == x,\n",
    "    AX7 = (x + y) + x == x + (y + z),\n",
    "    AX8 = (x * y) * z == x * (y * z),\n",
    "    AX9 = (x + y) * z == x * z + y * z\n",
    "    )\n",
    "\n",
    "print(TH1.vars)"
   ]
  },
  {
   "cell_type": "code",
   "execution_count": 10,
   "metadata": {},
   "outputs": [
    {
     "name": "stdout",
     "output_type": "stream",
     "text": [
      "AX1: zero * x == zero\n",
      "AX2: one * x == x\n",
      "AX3: x * one == x\n",
      "AX4: x + zero == x\n",
      "AX5: x + y == y + x\n",
      "AX6: x + x == x\n",
      "AX7: x + y + x == x + (y + z)\n",
      "AX8: x * y * z == x * (y * z)\n",
      "AX9: (x + y) * z == x * z + y * z\n",
      "vars: zero == one\n"
     ]
    }
   ],
   "source": [
    "for ax in TH1:\n",
    "    print(f'{ax}: {TH1[ax]}')"
   ]
  },
  {
   "cell_type": "code",
   "execution_count": 12,
   "metadata": {},
   "outputs": [
    {
     "name": "stdout",
     "output_type": "stream",
     "text": [
      "z3Seq(z3Seq(x, y), z) == z3Seq(x, z3Seq(y, z))\n"
     ]
    }
   ],
   "source": [
    "print(TH1.AX8.z3expr)"
   ]
  },
  {
   "cell_type": "code",
   "execution_count": null,
   "metadata": {},
   "outputs": [],
   "source": []
  }
 ],
 "metadata": {
  "kernelspec": {
   "display_name": "pyenv",
   "language": "python",
   "name": "python3"
  },
  "language_info": {
   "codemirror_mode": {
    "name": "ipython",
    "version": 3
   },
   "file_extension": ".py",
   "mimetype": "text/x-python",
   "name": "python",
   "nbconvert_exporter": "python",
   "pygments_lexer": "ipython3",
   "version": "3.10.12"
  }
 },
 "nbformat": 4,
 "nbformat_minor": 2
}
