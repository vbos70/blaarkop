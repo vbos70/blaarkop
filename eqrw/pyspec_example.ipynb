{
 "cells": [
  {
   "cell_type": "code",
   "execution_count": 1,
   "metadata": {},
   "outputs": [],
   "source": [
    "import z3\n",
    "from pyspec import *"
   ]
  },
  {
   "cell_type": "code",
   "execution_count": 2,
   "metadata": {},
   "outputs": [
    {
     "name": "stdout",
     "output_type": "stream",
     "text": [
      "x + y + z:  x+y+z\n",
      "x + (y+z):  x+(y+z)\n",
      "x < x << z:  x<(x<<z)\n",
      "x > x << z:  x>(x<<z)\n",
      "x << y << z:  x<<y<<z\n",
      "x-y << z:  x-y<<z\n",
      "y < z:  y<z\n",
      "x+y+x+y:  x+y+x+y\n",
      "r + s + t:  r+s+t\n",
      "r + (s+t):  r+(s+t)\n",
      "r < r << t:  r<(r<<t)\n",
      "r > r << t:  r>(r<<t)\n",
      "r << s << t:  r<<s<<t\n",
      "r-s << t:  r-s<<t\n",
      "s < t:  s<t\n",
      "r+s+r+s:  r+s+r+s\n"
     ]
    }
   ],
   "source": [
    "A = make_z3sort_expression(z3.DeclareSort('A'))\n",
    "B = make_z3sort_expression(z3.DeclareSort('B'))\n",
    "\n",
    "x,y,z = A.mk_atoms('x,y,z')\n",
    "\n",
    "r,s,t = B.mk_atoms('r,s,t')\n",
    "\n",
    "def eval_expr(es):\n",
    "    print(es+': ', str(eval(es)))\n",
    "\n",
    "examples = [(\n",
    "    f'{x} + {y} + {z}',\n",
    "    f'{x} + ({y+z})',\n",
    "    f'{x} < {x} << {z}',\n",
    "    f'{x} > {x} << {z}',\n",
    "    f'{x} << {y} << {z}',\n",
    "    f'{x}-{y} << {z}',\n",
    "    f'{y} < {z}',\n",
    "    f'{x}+{y}+{x}+{y}'\n",
    "    )\n",
    "    for (x,y,z) in [(x,y,z),(r,s,t)]\n",
    "]\n",
    "\n",
    "for ts in examples:\n",
    "    for e in ts:\n",
    "        eval_expr(e)\n"
   ]
  },
  {
   "cell_type": "code",
   "execution_count": 3,
   "metadata": {},
   "outputs": [
    {
     "name": "stdout",
     "output_type": "stream",
     "text": [
      "Exception: Arguments of ^ have incompatible sorts: A and B\n"
     ]
    }
   ],
   "source": [
    "try:\n",
    "    x*y // z + y ^ t+r\n",
    "except TypeError as te:\n",
    "    print(\"Exception:\", str(te))"
   ]
  },
  {
   "cell_type": "code",
   "execution_count": 4,
   "metadata": {},
   "outputs": [
    {
     "name": "stdout",
     "output_type": "stream",
     "text": [
      "A_Z3SortExpression\n"
     ]
    }
   ],
   "source": [
    "print(A.__name__)"
   ]
  },
  {
   "cell_type": "code",
   "execution_count": 13,
   "metadata": {},
   "outputs": [],
   "source": [
    "def a_to_b(a):\n",
    "    if a is x:\n",
    "        return r\n",
    "    elif a is y:\n",
    "        return s\n",
    "    elif a is z:\n",
    "        return t\n",
    "    else:\n",
    "        opname = f'{B.z3Sort}_{a.opname}'\n",
    "        return eval(a.op.join(str(a_to_b(p)) for p in a.args))\n",
    "\n",
    "t = t + (a_to_b(x)) "
   ]
  },
  {
   "cell_type": "code",
   "execution_count": 15,
   "metadata": {},
   "outputs": [
    {
     "name": "stdout",
     "output_type": "stream",
     "text": [
      "r+s\n"
     ]
    }
   ],
   "source": [
    "print(a_to_b(x+y))"
   ]
  },
  {
   "cell_type": "code",
   "execution_count": 9,
   "metadata": {},
   "outputs": [
    {
     "ename": "NameError",
     "evalue": "name 'B_Z3SortExpression' is not defined",
     "output_type": "error",
     "traceback": [
      "\u001b[0;31m---------------------------------------------------------------------------\u001b[0m",
      "\u001b[0;31mNameError\u001b[0m                                 Traceback (most recent call last)",
      "Cell \u001b[0;32mIn[9], line 1\u001b[0m\n\u001b[0;32m----> 1\u001b[0m \u001b[38;5;28mdir\u001b[39m(\u001b[43mB_Z3SortExpression\u001b[49m)\n",
      "\u001b[0;31mNameError\u001b[0m: name 'B_Z3SortExpression' is not defined"
     ]
    }
   ],
   "source": [
    "dir(B_Z3SortExpression)"
   ]
  },
  {
   "cell_type": "code",
   "execution_count": 10,
   "metadata": {},
   "outputs": [
    {
     "data": {
      "text/plain": [
       "pyspec.B_Atom"
      ]
     },
     "execution_count": 10,
     "metadata": {},
     "output_type": "execute_result"
    }
   ],
   "source": [
    "type(s)"
   ]
  },
  {
   "cell_type": "code",
   "execution_count": null,
   "metadata": {},
   "outputs": [],
   "source": []
  }
 ],
 "metadata": {
  "kernelspec": {
   "display_name": "pyenv",
   "language": "python",
   "name": "python3"
  },
  "language_info": {
   "codemirror_mode": {
    "name": "ipython",
    "version": 3
   },
   "file_extension": ".py",
   "mimetype": "text/x-python",
   "name": "python",
   "nbconvert_exporter": "python",
   "pygments_lexer": "ipython3",
   "version": "3.10.12"
  }
 },
 "nbformat": 4,
 "nbformat_minor": 2
}
