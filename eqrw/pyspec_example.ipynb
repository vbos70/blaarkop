{
 "cells": [
  {
   "cell_type": "code",
   "execution_count": 1,
   "metadata": {},
   "outputs": [],
   "source": [
    "import z3\n",
    "from pyspec import *"
   ]
  },
  {
   "cell_type": "code",
   "execution_count": 2,
   "metadata": {},
   "outputs": [
    {
     "name": "stdout",
     "output_type": "stream",
     "text": [
      "<class 'z3.z3.SortRef'> A\n"
     ]
    }
   ],
   "source": [
    "A = z3.DeclareSort('A')\n",
    "print(type(A), str(A))"
   ]
  },
  {
   "cell_type": "code",
   "execution_count": 3,
   "metadata": {},
   "outputs": [
    {
     "name": "stdout",
     "output_type": "stream",
     "text": [
      "x + y + z:  x+y+z\n",
      "x + (y+z):  x+(y+z)\n",
      "x < x << z:  x<(x<<z)\n",
      "x > x << z:  x>(x<<z)\n",
      "x << y << z:  x<<y<<z\n",
      "x-y << z:  x-y<<z\n",
      "y < z:  y<z\n",
      "x+y+x+y:  x+y+x+y\n",
      "r + s + t:  r+s+t\n",
      "r + (s+t):  r+(s+t)\n",
      "r < r << t:  r<(r<<t)\n",
      "r > r << t:  r>(r<<t)\n",
      "r << s << t:  r<<s<<t\n",
      "r-s << t:  r-s<<t\n",
      "s < t:  s<t\n",
      "r+s+r+s:  r+s+r+s\n"
     ]
    }
   ],
   "source": [
    "A = make_z3sort_expression(z3.DeclareSort('A'))\n",
    "B = make_z3sort_expression(z3.DeclareSort('B'))\n",
    "\n",
    "x,y,z = A.mk_atoms('x,y,z')\n",
    "\n",
    "r,s,t = B.mk_atoms('r,s,t')\n",
    "\n",
    "def eval_expr(es):\n",
    "    print(es+': ', str(eval(es)))\n",
    "\n",
    "examples = [(\n",
    "    f'{x} + {y} + {z}',\n",
    "    f'{x} + ({y+z})',\n",
    "    f'{x} < {x} << {z}',\n",
    "    f'{x} > {x} << {z}',\n",
    "    f'{x} << {y} << {z}',\n",
    "    f'{x}-{y} << {z}',\n",
    "    f'{y} < {z}',\n",
    "    f'{x}+{y}+{x}+{y}'\n",
    "    )\n",
    "    for (x,y,z) in [(x,y,z),(r,s,t)]\n",
    "]\n",
    "\n",
    "for ts in examples:\n",
    "    for e in ts:\n",
    "        eval_expr(e)\n"
   ]
  },
  {
   "cell_type": "code",
   "execution_count": 4,
   "metadata": {},
   "outputs": [
    {
     "name": "stdout",
     "output_type": "stream",
     "text": [
      "Exception: Operands of ^ operator have incompatible types: 'x*y//z+y: A_Add' versus 't+r: B_Add'\n"
     ]
    }
   ],
   "source": [
    "try:\n",
    "    x*y // z + y ^ t+r\n",
    "except TypeError as te:\n",
    "    print(\"Exception:\", str(te))"
   ]
  },
  {
   "cell_type": "code",
   "execution_count": 5,
   "metadata": {},
   "outputs": [
    {
     "name": "stdout",
     "output_type": "stream",
     "text": [
      "A_Z3SortExpression\n"
     ]
    }
   ],
   "source": [
    "print(A.__name__)"
   ]
  },
  {
   "cell_type": "code",
   "execution_count": 6,
   "metadata": {},
   "outputs": [
    {
     "name": "stdout",
     "output_type": "stream",
     "text": [
      "x+y\n",
      "z3_Add\n"
     ]
    }
   ],
   "source": [
    "add_x_y = x+y\n",
    "print(add_x_y)\n",
    "print(add_x_y.z3Func)\n",
    "#type(add_x_y.z3Expr)\n"
   ]
  }
 ],
 "metadata": {
  "kernelspec": {
   "display_name": "pyenv",
   "language": "python",
   "name": "python3"
  },
  "language_info": {
   "codemirror_mode": {
    "name": "ipython",
    "version": 3
   },
   "file_extension": ".py",
   "mimetype": "text/x-python",
   "name": "python",
   "nbconvert_exporter": "python",
   "pygments_lexer": "ipython3",
   "version": "3.10.12"
  }
 },
 "nbformat": 4,
 "nbformat_minor": 2
}
