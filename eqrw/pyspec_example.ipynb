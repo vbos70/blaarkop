{
 "cells": [
  {
   "cell_type": "code",
   "execution_count": 1,
   "metadata": {},
   "outputs": [],
   "source": [
    "import z3\n",
    "from pyspec import *"
   ]
  },
  {
   "cell_type": "code",
   "execution_count": 2,
   "metadata": {},
   "outputs": [
    {
     "name": "stdout",
     "output_type": "stream",
     "text": [
      "x + y + z:  x+y+z\n",
      "x + (y+z):  x+(y+z)\n",
      "x < x << z:  x<(x<<z)\n",
      "x > x << z:  x>(x<<z)\n",
      "x << y << z:  x<<y<<z\n",
      "x-y << z:  x-y<<z\n",
      "y < z:  y<z\n",
      "x+y+x+y:  x+y+x+y\n",
      "r + s + t:  r+s+t\n",
      "r + (s+t):  r+(s+t)\n",
      "r < r << t:  r<(r<<t)\n",
      "r > r << t:  r>(r<<t)\n",
      "r << s << t:  r<<s<<t\n",
      "r-s << t:  r-s<<t\n",
      "s < t:  s<t\n",
      "r+s+r+s:  r+s+r+s\n"
     ]
    }
   ],
   "source": [
    "A = make_sort_expression('A')\n",
    "B = make_sort_expression('B')\n",
    "\n",
    "x,y,z = A.mk_atoms('x,y,z')\n",
    "\n",
    "r,s,t = B.mk_atoms('r,s,t')\n",
    "\n",
    "def eval_expr(es):\n",
    "    print(es+': ', str(eval(es)))\n",
    "\n",
    "examples = [(\n",
    "    f'{x} + {y} + {z}',\n",
    "    f'{x} + ({y+z})',\n",
    "    f'{x} < {x} << {z}',\n",
    "    f'{x} > {x} << {z}',\n",
    "    f'{x} << {y} << {z}',\n",
    "    f'{x}-{y} << {z}',\n",
    "    f'{y} < {z}',\n",
    "    f'{x}+{y}+{x}+{y}'\n",
    "    )\n",
    "    for (x,y,z) in [(x,y,z),(r,s,t)]\n",
    "]\n",
    "\n",
    "for ts in examples:\n",
    "    for e in ts:\n",
    "        eval_expr(e)\n"
   ]
  },
  {
   "cell_type": "code",
   "execution_count": 6,
   "metadata": {},
   "outputs": [
    {
     "ename": "TypeError",
     "evalue": "Operand t+r has incorrect type. Expected same type as x*y//z+y: A_Expression",
     "output_type": "error",
     "traceback": [
      "\u001b[0;31m---------------------------------------------------------------------------\u001b[0m",
      "\u001b[0;31mTypeError\u001b[0m                                 Traceback (most recent call last)",
      "Cell \u001b[0;32mIn[6], line 1\u001b[0m\n\u001b[0;32m----> 1\u001b[0m \u001b[43mx\u001b[49m\u001b[38;5;241;43m*\u001b[39;49m\u001b[43my\u001b[49m\u001b[43m \u001b[49m\u001b[38;5;241;43m/\u001b[39;49m\u001b[38;5;241;43m/\u001b[39;49m\u001b[43m \u001b[49m\u001b[43mz\u001b[49m\u001b[43m \u001b[49m\u001b[38;5;241;43m+\u001b[39;49m\u001b[43m \u001b[49m\u001b[43my\u001b[49m\u001b[43m \u001b[49m\u001b[38;5;241;43m^\u001b[39;49m\u001b[43m \u001b[49m\u001b[43mt\u001b[49m\u001b[38;5;241;43m+\u001b[39;49m\u001b[43mr\u001b[49m\n",
      "File \u001b[0;32m~/blaarkop/eqrw/pyspec.py:270\u001b[0m, in \u001b[0;36mmake_sort_expression.<locals>.SortExpression.__xor__\u001b[0;34m(self, other)\u001b[0m\n\u001b[1;32m    269\u001b[0m \u001b[38;5;28;01mdef\u001b[39;00m \u001b[38;5;21m__xor__\u001b[39m(\u001b[38;5;28mself\u001b[39m, other):\n\u001b[0;32m--> 270\u001b[0m     \u001b[38;5;28;01mreturn\u001b[39;00m \u001b[38;5;28;43mself\u001b[39;49m\u001b[38;5;241;43m.\u001b[39;49m\u001b[43mmk_operator\u001b[49m\u001b[43m(\u001b[49m\u001b[43mother\u001b[49m\u001b[43m,\u001b[49m\u001b[43m \u001b[49m\u001b[43mXor\u001b[49m\u001b[43m)\u001b[49m\n",
      "File \u001b[0;32m~/blaarkop/eqrw/pyspec.py:232\u001b[0m, in \u001b[0;36mmake_sort_expression.<locals>.SortExpression.mk_operator\u001b[0;34m(self, other, op)\u001b[0m\n\u001b[1;32m    230\u001b[0m \u001b[38;5;28;01mif\u001b[39;00m \u001b[38;5;28misinstance\u001b[39m(other, SortExpression):\n\u001b[1;32m    231\u001b[0m     \u001b[38;5;28;01mreturn\u001b[39;00m op(\u001b[38;5;28mself\u001b[39m, other)\n\u001b[0;32m--> 232\u001b[0m \u001b[38;5;28;01mraise\u001b[39;00m \u001b[38;5;167;01mTypeError\u001b[39;00m(\u001b[38;5;124mf\u001b[39m\u001b[38;5;124m'\u001b[39m\u001b[38;5;124mOperand \u001b[39m\u001b[38;5;132;01m{\u001b[39;00m\u001b[38;5;28mstr\u001b[39m(other)\u001b[38;5;132;01m}\u001b[39;00m\u001b[38;5;124m has incorrect type. Expected same type as \u001b[39m\u001b[38;5;132;01m{\u001b[39;00m\u001b[38;5;28mstr\u001b[39m(\u001b[38;5;28mself\u001b[39m)\u001b[38;5;132;01m}\u001b[39;00m\u001b[38;5;124m: \u001b[39m\u001b[38;5;132;01m{\u001b[39;00msortname\u001b[38;5;132;01m}\u001b[39;00m\u001b[38;5;124m_Expression\u001b[39m\u001b[38;5;124m'\u001b[39m)\n",
      "\u001b[0;31mTypeError\u001b[0m: Operand t+r has incorrect type. Expected same type as x*y//z+y: A_Expression"
     ]
    }
   ],
   "source": [
    "try:\n",
    "    x*y // z + y ^ t+r\n",
    "except TypeError as te:\n",
    "    print(\"Exception:\", str(te))"
   ]
  },
  {
   "cell_type": "code",
   "execution_count": 3,
   "metadata": {},
   "outputs": [],
   "source": [
    "z3_A = z3.DeclareSort('A')\n",
    "\n"
   ]
  },
  {
   "cell_type": "code",
   "execution_count": 14,
   "metadata": {},
   "outputs": [],
   "source": [
    "def Z3Class(cls):\n",
    "\n",
    "    cls.z3expr = f'a'\n",
    "\n",
    "    return cls\n",
    "\n",
    "@Z3Class\n",
    "class B:\n",
    "\n",
    "    z3expr = None\n",
    "\n"
   ]
  },
  {
   "cell_type": "code",
   "execution_count": 11,
   "metadata": {},
   "outputs": [
    {
     "name": "stdout",
     "output_type": "stream",
     "text": [
      "a\n"
     ]
    }
   ],
   "source": [
    "b = B()\n",
    "print(b.z3expr)"
   ]
  },
  {
   "cell_type": "code",
   "execution_count": 21,
   "metadata": {},
   "outputs": [
    {
     "name": "stdout",
     "output_type": "stream",
     "text": [
      "E <class 'z3.z3.SortRef'> expr <class 'z3.z3.ExprRef'>\n",
      "F <class 'z3.z3.SortRef'> expr <class 'z3.z3.ExprRef'>\n"
     ]
    }
   ],
   "source": [
    "def Z3Sort(cls, sort):\n",
    "\n",
    "    class C(cls):\n",
    "        z3Sort = z3.DeclareSort(sort)\n",
    "        expr = z3.Const('expr', z3Sort)\n",
    "\n",
    "    return C\n",
    "\n",
    "class E: pass\n",
    "E = Z3Sort(E, 'E')\n",
    "F = Z3Sort(E, 'F')\n",
    "\n",
    "print(E.z3Sort, type(E.z3Sort), E.expr, type(E.expr))\n",
    "print(F.z3Sort, type(F.z3Sort), E.expr, type(E.expr))\n"
   ]
  },
  {
   "cell_type": "code",
   "execution_count": null,
   "metadata": {},
   "outputs": [],
   "source": []
  }
 ],
 "metadata": {
  "kernelspec": {
   "display_name": "pyenv",
   "language": "python",
   "name": "python3"
  },
  "language_info": {
   "codemirror_mode": {
    "name": "ipython",
    "version": 3
   },
   "file_extension": ".py",
   "mimetype": "text/x-python",
   "name": "python",
   "nbconvert_exporter": "python",
   "pygments_lexer": "ipython3",
   "version": "3.10.12"
  }
 },
 "nbformat": 4,
 "nbformat_minor": 2
}
