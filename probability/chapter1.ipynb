{
 "cells": [
  {
   "cell_type": "markdown",
   "id": "43f1ec99-6a2c-4c67-a37a-94e88acaa9f1",
   "metadata": {},
   "source": [
    "# Chapter 1: Probability and counting\n",
    "\n",
    "Source: [Introduction to Probability](https://learning.oreilly.com/library/view/introduction-to-probability/9781466575578/), September 2015.\n",
    "\n",
    "> **Def 1.2.1** (Sample space and event). The sample space *S* of an experiment is the set of all possible outcomes of the experiment. An event *A* is a subset of the sample space *S*, and we say that *A* occurred if the actual outcome is in *A*.\n",
    "\n",
    "## Data structures\n",
    "\n",
    "Whenever possible, we use Python's `frozenset` to represent sets, see <https://docs.python.org/3/library/stdtypes.html#set>. Below, we define the `FS` function to create a `frozenset`.\n",
    "\n",
    "## Notation\n",
    "\n",
    "Python's notation for set operations is used:\n",
    "\n",
    "> **Set union**: A | B \n",
    ">\n",
    "> **Set intersection**: A & B\n",
    ">\n",
    "> **Set difference**: A - B\n",
    ">\n",
    "> **Set symmetric difference**: A ^ B\n",
    ">\n",
    "> **Set complement**:\n",
    "> Set complement is defined only when the universe of all elements is clear from the context. U - A is the compement of A if U is the universe of all elements.\n",
    ">\n",
    "> **Element of**: e in S\n",
    ">\n",
    "> **Not element of**: e not in S\n",
    ">\n",
    "> **Strict subset comparison**: A < B or B > A\n",
    ">\n",
    "> **Subset comparison**: A <= B or B >= A\n",
    "\n"
   ]
  },
  {
   "cell_type": "code",
   "execution_count": 3,
   "id": "a69206e9-7644-4baa-9a46-82856889977c",
   "metadata": {},
   "outputs": [],
   "source": [
    "from typing import Iterable\n",
    "def FS(xs: Iterable) -> frozenset:\n",
    "    '''Short notation for `frozenset`.'''\n",
    "    return frozenset(xs)"
   ]
  },
  {
   "cell_type": "code",
   "execution_count": 4,
   "id": "6d5bf52c-3f07-4431-96df-4c4552eda0ca",
   "metadata": {},
   "outputs": [],
   "source": [
    "A = FS([1,2,3,4,0])"
   ]
  },
  {
   "cell_type": "code",
   "execution_count": 5,
   "id": "e266d0bf-f877-4477-85d4-4f5dd73d1683",
   "metadata": {},
   "outputs": [
    {
     "data": {
      "text/plain": [
       "frozenset"
      ]
     },
     "execution_count": 5,
     "metadata": {},
     "output_type": "execute_result"
    }
   ],
   "source": [
    "type(A)"
   ]
  },
  {
   "cell_type": "code",
   "execution_count": 7,
   "id": "7fce211a-a0dd-487e-9295-c8ec5931305b",
   "metadata": {},
   "outputs": [
    {
     "name": "stdout",
     "output_type": "stream",
     "text": [
      "frozenset({0, 1, 2, 3, 4})\n"
     ]
    }
   ],
   "source": [
    "print(A)"
   ]
  },
  {
   "cell_type": "markdown",
   "id": "7d4ce109-465d-441d-bbdc-695d020b331e",
   "metadata": {},
   "source": [
    "## Naive definition of probability\n",
    "\n",
    "> **Def 1.3.1** (Naive definition of probability). Let A be an event for an experiment with a finite sample space S. The naive probability of A is\n",
    ">\n",
    "> P(A) = |A| / |S| = \"number of outcomes favourable to A\" / \"number of outcomes in S\"\n",
    "\n",
    "The naive definition of probability assumes S to be finite and all elements in S to be equally likely to occur. This definition is applicable if:\n",
    "\n",
    "1. There is symmetry in the problem that makes each outcome equally likely.\n",
    "2. The outcomes are equally likely by design.\n",
    "3. The experiment serves as a *null* model by which we can assess hypotheses."
   ]
  },
  {
   "cell_type": "code",
   "execution_count": null,
   "id": "c4e6548b-6d6b-4580-9a0f-75605bbdde43",
   "metadata": {},
   "outputs": [],
   "source": []
  }
 ],
 "metadata": {
  "kernelspec": {
   "display_name": "Python 3",
   "language": "python",
   "name": "python3"
  },
  "language_info": {
   "codemirror_mode": {
    "name": "ipython",
    "version": 3
   },
   "file_extension": ".py",
   "mimetype": "text/x-python",
   "name": "python",
   "nbconvert_exporter": "python",
   "pygments_lexer": "ipython3",
   "version": "3.8.0"
  }
 },
 "nbformat": 4,
 "nbformat_minor": 5
}
