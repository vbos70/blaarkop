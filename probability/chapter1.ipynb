{
 "cells": [
  {
   "cell_type": "markdown",
   "id": "68ed508a-5c01-49ce-a9bb-c7c18415932e",
   "metadata": {
    "tags": []
   },
   "source": [
    "# Chapter 1: Probability and counting\n",
    "\n",
    "Source: [Introduction to Probability](https://learning.oreilly.com/library/view/introduction-to-probability/9781466575578/), September 2015."
   ]
  },
  {
   "cell_type": "markdown",
   "id": "dab52ada-15a6-4735-96c7-545a2d0c083b",
   "metadata": {
    "tags": []
   },
   "source": [
    "> **Def 1.2.1** (Sample space and event). The sample space $S$ of an experiment is the set of all possible outcomes of the experiment. An event $A$ is a subset of the sample space $S$, and we say that $A$ occurred if the actual outcome is in $A$."
   ]
  },
  {
   "cell_type": "markdown",
   "id": "4defdc35-8e1e-44a5-a3c1-f32c22bd55b4",
   "metadata": {
    "tags": []
   },
   "source": [
    "The sample space is assumed to be clear from the problem description. If it is not, then there is no way to compute probabilities of events. Hence, the first step in solving a probability problem is to extract or derive a clear and unambiguous description of the sample space. The next step is to extract or derive a clear and unambiguous descriptions of the events in terms of the sample space."
   ]
  },
  {
   "cell_type": "markdown",
   "id": "8c2d680c-6c3c-4aa1-9dd2-d9e410529757",
   "metadata": {
    "tags": []
   },
   "source": [
    "## Models and data data types\n",
    "\n",
    "Sample spaces and events are modelled as sets. We use Python's `set` data type to represent sets, see <https://docs.python.org/3/library/stdtypes.html#set>. Python's `set` data type defines finite sets. For now, that is enough, but when we look at problems with infinite sample spaces, another representation in Python is needed."
   ]
  },
  {
   "cell_type": "markdown",
   "id": "904d5e2a-d7af-4c8d-8ec8-f1cac7c296e8",
   "metadata": {
    "tags": []
   },
   "source": [
    "## Notation\n",
    "\n",
    "Python's notation for set operations is used:\n",
    "\n",
    "> **Set union**: `A | B` \n",
    ">\n",
    "> **Set intersection**: `A & B`\n",
    ">\n",
    "> **Set difference**: `A - B`\n",
    ">\n",
    "> **Set symmetric difference**: `A ^ B`\n",
    ">\n",
    "> **Element of**: `e in S`\n",
    ">\n",
    "> **Not element of**: `e not in S`\n",
    ">\n",
    "> **Strict subset comparison**: `A < B` or `B > A`\n",
    ">\n",
    "> **Subset comparison**: `A <= B` or `B >= A`\n",
    ">\n",
    "> **Number of elements**: `len(A)`\n",
    ">\n",
    "> **Empty set**: `set()`\n",
    ">\n",
    "> **Singleton e**: `{e}` "
   ]
  },
  {
   "cell_type": "markdown",
   "id": "2d2fab07-6c4d-4f6f-95dc-d00963621992",
   "metadata": {
    "tags": []
   },
   "source": [
    "Set complement is usually written as $S^C$. It is the set of all elements that are not in $S$. In Python,  expression `U - A` is the complement of `A` if the (finite) universe `U` is the set of all elements."
   ]
  },
  {
   "cell_type": "markdown",
   "id": "500fc731-c7a1-4b4e-a970-a33975313db0",
   "metadata": {
    "tags": []
   },
   "source": [
    "> Note: there is no unary `set` operator in Python that corresponds to $\\square^C$. The complement of a set is well-defined only when the universe of all elements is clear. For instance, if $A$ is a (mathematical) set of integers, then $A^C$ is the set of all integers not in $A$. As mentioned, Python's `set` datatype represents finite sets. The complement of a `A` would be all Python objects that are not in `A`. There are infinitely many of such objects. Therefore, there cannot be a set complement operation for Python's `set` datatype."
   ]
  },
  {
   "cell_type": "markdown",
   "id": "ac523606-717e-4daf-8c65-3ac44ce7eee2",
   "metadata": {
    "tags": []
   },
   "source": [
    "> Note: the expression `{}` is valid in Python, but it is not a set (it is a *dict*). "
   ]
  },
  {
   "cell_type": "code",
   "execution_count": 1,
   "id": "6d5bf52c-3f07-4431-96df-4c4552eda0ca",
   "metadata": {},
   "outputs": [],
   "source": [
    "A = {1,2,3,4,0}"
   ]
  },
  {
   "cell_type": "code",
   "execution_count": 2,
   "id": "e266d0bf-f877-4477-85d4-4f5dd73d1683",
   "metadata": {},
   "outputs": [
    {
     "data": {
      "text/plain": [
       "set"
      ]
     },
     "execution_count": 2,
     "metadata": {},
     "output_type": "execute_result"
    }
   ],
   "source": [
    "type(A)"
   ]
  },
  {
   "cell_type": "code",
   "execution_count": 3,
   "id": "7fce211a-a0dd-487e-9295-c8ec5931305b",
   "metadata": {},
   "outputs": [
    {
     "name": "stdout",
     "output_type": "stream",
     "text": [
      "{0, 1, 2, 3, 4}\n"
     ]
    }
   ],
   "source": [
    "print(A)"
   ]
  },
  {
   "cell_type": "code",
   "execution_count": 4,
   "id": "93d817ab-7245-4a67-ae66-f24bc23d9320",
   "metadata": {},
   "outputs": [
    {
     "data": {
      "text/plain": [
       "0"
      ]
     },
     "execution_count": 4,
     "metadata": {},
     "output_type": "execute_result"
    }
   ],
   "source": [
    "len(set()) # number of elements in empty set"
   ]
  },
  {
   "cell_type": "code",
   "execution_count": 5,
   "id": "1df9d794-aef4-4546-878f-dd09d27fff97",
   "metadata": {},
   "outputs": [
    {
     "data": {
      "text/plain": [
       "dict"
      ]
     },
     "execution_count": 5,
     "metadata": {},
     "output_type": "execute_result"
    }
   ],
   "source": [
    "type({}) # {} is not a set"
   ]
  },
  {
   "cell_type": "markdown",
   "id": "6368ccac-9dfc-4f36-8cb9-b7013b491e64",
   "metadata": {},
   "source": [
    "## Naive definition of probability\n",
    "\n",
    "> **Def 1.3.1** (Naive definition of probability). Let $A$ be an event for an experiment with a finite sample space $S$. The naive probability of $A$ is: $$P_{\\text{naive}}(A) = \\frac{|A|}{|S|}$$"
   ]
  },
  {
   "cell_type": "markdown",
   "id": "d1369881-b8ac-44bd-891a-8ba80739153f",
   "metadata": {},
   "source": [
    "The naive definition of probability assumes $S$ to be **finite** and **all elements in $S$ to be equally likely to occur**. Although these assumptions are restricting, the naive definition of probability is still a useful tool for many probability problems. Here are some more specific guidelines by which you can verify you can use the naive definition of probability.\n",
    "\n",
    "*There is symmetry in the problem that makes each outcome equally likely.* For instance, tossing a coin is an experiment with two equally likely events to occur: *heads* or *tails*. Another example is drawing a card from a well-shuffled deck; the event to draw a card of a specific suit and rank is equally likely as the event to draw a card of another specific suit and rank.\n",
    "\n",
    "*The outcomes are equally likely by design.* Population surveys experiments are often designed to randomly select a sub-set of the population and ask only members of the sub-set to fill out the survey. This prevents asking the complete population to fill out the survey, which is often infeasible. The random selection of the population has  to be carefully constructed, because if certain groups of the population are under or over represented in the sub-set, the survey results will be biased.\n",
    "\n",
    "*The experiment serves as a null model by which we can assess hypotheses.* In this setting, the naive definition of probability is used to predict probabilities of certain events. At the same time, alternative hypotheses are used to compute other probabilities of the same events. The predicted probabilities are then compared to frequencies of events in observed data. If the predicted probabilities of the null hypothesis match the observed frequencies, the data cannot be taken as evidence for a specific hypothesis. However, if the predicted probabilities of the null hypothesis do not match the observed frequencies while the predicted probabilities of a specific hypothesis do, then the data is evidence for that specific hypothesis."
   ]
  },
  {
   "cell_type": "markdown",
   "id": "6d16193f-2c99-4230-9284-2ad53d9f7b33",
   "metadata": {},
   "source": [
    "Counting the number of events of a simple experiment is often not too difficult. For instance, a coin toss has two possible outcomes (events) and drawing a card randomly from a well-shuffled deck has 52 possible outcomes.\n",
    "\n",
    "Complex experiments combine several simple experiments. For example, tossing three coins or drawing two cards with replacement. Counting the number of possible events for complex experiments can be hard. Therefore, tools have been developed to make counting events of complex experiments easier.\n",
    "\n",
    "The *multiplication rule* is the first tool we describe to count events of complex experiments."
   ]
  },
  {
   "cell_type": "markdown",
   "id": "be0f47f5-9875-450b-bb88-5cb8622f1822",
   "metadata": {},
   "source": [
    "> **Theorem 1.4.1** (Multiplication rule). Consider a complex experiment consisting of sub-experiments $A$ and $B$. Suppose that $A$ has $a$ possible outcomes, and for each of the $a$ outcomes sub-experiment $B$ has $b$ possible outcomes. Then the complex experiment has $ab$ possible outcomes."
   ]
  },
  {
   "cell_type": "code",
   "execution_count": 6,
   "id": "8af386c7-cfed-489c-9612-85afcaab7f8a",
   "metadata": {},
   "outputs": [
    {
     "name": "stdout",
     "output_type": "stream",
     "text": [
      "Outcomes of three coin tosses: 8\n"
     ]
    }
   ],
   "source": [
    "# Couting the possible outcomes of tossing 3 coins\n",
    "toss_coin_outcomes = 2\n",
    "print(f\"Outcomes of three coin tosses: {toss_coin_outcomes * toss_coin_outcomes * toss_coin_outcomes}\")"
   ]
  },
  {
   "cell_type": "code",
   "execution_count": 7,
   "id": "890c1464-f419-4ffc-bb9a-e2e52cda6416",
   "metadata": {},
   "outputs": [
    {
     "name": "stdout",
     "output_type": "stream",
     "text": [
      "Outcomes of drawing two cards with replacement: 2704\n"
     ]
    }
   ],
   "source": [
    "# Counting the possible outcomes of drawing two cards with replacement\n",
    "draw_card_outcomes = 52\n",
    "print(f\"Outcomes of drawing two cards with replacement: {draw_card_outcomes ** 2}\")"
   ]
  },
  {
   "cell_type": "markdown",
   "id": "af0639e4-9bdf-443c-8db1-43d220014525",
   "metadata": {},
   "source": [
    "> **Example 1.4.8** (Birthday problem). There are $k$ people in a room. Assume each person’s birthday is equally likely to be any of the $365$ days of the year (we exclude February $29$), and that people’s birthdays are independent (we assume there are no twins in the room). What is the probability that two or more people in the group have the same birthday?"
   ]
  },
  {
   "cell_type": "markdown",
   "id": "f0c177be-30a0-46ba-9a16-0d016a63a28d",
   "metadata": {},
   "source": [
    "The event \"two or more people have the same birthday\" has many outcomes and is difficult to count. The complement of this event is the event \"all people have a different birthday\". That event is easier to count, because it is similar to drawing a certain number of cards from a deck without replacement. The cards deck is replaced by the days of the year. The first person's birthday can be on any of the $356$ days, the second person's can be on any of the remaining $365-1=364$ days, etc. For the lhe last person (person $k$), there are $365 -(k+1)$ days to choose from. The multiplication rule gives us $365 \\cdot 364 \\ldots 365-(k+1)$ possibilities to have $k$ different birthdays in a year. The multiplication rule also gives us the number of possible outcomes for $k$ birthdays: each birthday can be an any of the $356$ days, so there are $365^k$ possibilities.\n",
    "\n",
    "Therefore, the probability that $k$ people have different birthdays is $P_{\\text{different birthdays}} = \\frac{365 \\cdot 364 \\ldots 365-k+1}{365^k}$\n",
    "\n",
    "Assuming the naive definition of probability applies, we conclude that for the original probability of two or more people sharing a birthday, we get $P_{\\text{at least one shared birthday}} = 1 - P_{\\text{different birthdays}} = 1-\\frac{365 \\cdot 364 \\ldots 365-k+1}{365^k}$."
   ]
  },
  {
   "cell_type": "code",
   "execution_count": 8,
   "id": "c534dce4-743a-407b-a15b-9b382bad1e5b",
   "metadata": {},
   "outputs": [
    {
     "name": "stdout",
     "output_type": "stream",
     "text": [
      "[365, 364, 363]\n"
     ]
    }
   ],
   "source": [
    "k=3\n",
    "l = list(range(365, 365-k, -1))\n",
    "print(l)"
   ]
  },
  {
   "cell_type": "code",
   "execution_count": 9,
   "id": "9d8c33cf-733e-46a4-8dce-ece5859fb6f2",
   "metadata": {
    "tags": []
   },
   "outputs": [],
   "source": [
    "from functools import reduce\n",
    "from operator import mul\n",
    "from fractions import Fraction\n",
    "\n",
    "def prob_shared(k):\n",
    "    '''Return the probability of at least one shared birthday in a group of $k$ people.\n",
    "    '''\n",
    "    if k<2:\n",
    "        return 0\n",
    "    if k>=365:\n",
    "        return 100.0\n",
    "    # Use reduce() to multiply all numbers in a number sequence.\n",
    "    # the sequence [365, 364, ..., 365-k+1] is computed in Python as range(365, 365-k, -1)\n",
    "    return 100.0 * (1 - (reduce(mul, range(365,365-k,-1)) / (365**k)))"
   ]
  },
  {
   "cell_type": "markdown",
   "id": "eb0017f9-cd19-4dfc-a8ab-db325153dffd",
   "metadata": {},
   "source": [
    "Let's plot the probability $P_{\\text{shared birthdays}}$ for all values of $k$. It is sufficient to take $k\\in \\{2,\\ldots,365\\}$, because if there are less than $2$ people, there cannot be 2 people sharing a birthday so $P_{\\text{shared birthdays}} = 0$. Similarly, if there are more than $365$ people, there have to be at least 2 people sharing a birthday so $P_{\\text{shared birthdays}} = 1$."
   ]
  },
  {
   "cell_type": "markdown",
   "id": "ee68004e-4cb5-464b-87f5-004c063c1acb",
   "metadata": {},
   "source": [
    "## Plotting with Matplotlib\n",
    "\n",
    "The plot shows the number of people ($k$) on the x-axis and the probability of a shared birthday ($P_{\\text{shared birthdays}}$) on the y-axis. In addition, there shall be a clear indication where the 50% lies, because then we can easily see for which values of $k$ the probability of a shared birthday is greater than 50%. Finally, the smallest $k$ such that $P_{\\text{shared birthdays}}$ is greater than 50% shall be indicated too. "
   ]
  },
  {
   "cell_type": "code",
   "execution_count": 10,
   "id": "d609fe50-740c-4d1b-85bf-a2a12994996c",
   "metadata": {
    "tags": []
   },
   "outputs": [
    {
     "data": {
      "text/plain": [
       "<matplotlib.legend.Legend at 0x7f87843a4d00>"
      ]
     },
     "execution_count": 10,
     "metadata": {},
     "output_type": "execute_result"
    },
    {
     "data": {
      "image/png": "[encoded data removed]",
      "text/plain": [
       "<Figure size 432x288 with 1 Axes>"
      ]
     },
     "metadata": {
      "needs_background": "light"
     },
     "output_type": "display_data"
    }
   ],
   "source": [
    "import matplotlib.pyplot as plt\n",
    "\n",
    "fig, ax = plt.subplots()  # Create a figure containing a single axes.\n",
    "ax.plot(range(1,366), [prob_shared(k) for k in range(1,366)], label=\"$P_{shared\\ birthday}$\");  # Plot some data on the axes.\n",
    "plt.axhline(50.0, color=\"green\", label=\"50%\")\n",
    "p23 = plt.axvline(23, linestyle='--', color='blue', label=\"$k=23$\")\n",
    "plt.xlim(0,366)\n",
    "plt.ylim(0, 100)\n",
    "plt.xlabel(\"Number of people: $k$\")\n",
    "plt.ylabel(\"Probability\")\n",
    "plt.legend()"
   ]
  },
  {
   "cell_type": "markdown",
   "id": "3dedd3de-ae9a-4452-805e-49515a7e8ceb",
   "metadata": {
    "tags": []
   },
   "source": [
    "## Plotting with Bokey\n",
    "\n",
    "We make the same plot with Bokeh, but add an interactive slider below the picture. Changing the slider changes the current number of people $k$). A red circle indicates the probability of a shared birthday for the current number of people. "
   ]
  },
  {
   "cell_type": "code",
   "execution_count": 11,
   "id": "fcb49945-c019-4cc7-be6a-54001379593d",
   "metadata": {},
   "outputs": [
    {
     "data": {
      "text/html": [
       "\n",
       "    <div class=\"bk-root\">\n",
       "        <a href=\"https://bokeh.org\" target=\"_blank\" class=\"bk-logo bk-logo-small bk-logo-notebook\"></a>\n",
       "        <span id=\"1002\">Loading BokehJS ...</span>\n",
       "    </div>"
      ]
     },
     "metadata": {},
     "output_type": "display_data"
    },
    {
     "data": {
      "application/javascript": [
       "\n",
       "(function(root) {\n",
       "  function now() {\n",
       "    return new Date();\n",
       "  }\n",
       "\n",
       "  const force = true;\n",
       "\n",
       "  if (typeof root._bokeh_onload_callbacks === \"undefined\" || force === true) {\n",
       "    root._bokeh_onload_callbacks = [];\n",
       "    root._bokeh_is_loading = undefined;\n",
       "  }\n",
       "\n",
       "  const JS_MIME_TYPE = 'application/javascript';\n",
       "  const HTML_MIME_TYPE = 'text/html';\n",
       "  const EXEC_MIME_TYPE = 'application/vnd.bokehjs_exec.v0+json';\n",
       "  const CLASS_NAME = 'output_bokeh rendered_html';\n",
       "\n",
       "  /**\n",
       "   * Render data to the DOM node\n",
       "   */\n",
       "  function render(props, node) {\n",
       "    const script = document.createElement(\"script\");\n",
       "    node.appendChild(script);\n",
       "  }\n",
       "\n",
       "  /**\n",
       "   * Handle when an output is cleared or removed\n",
       "   */\n",
       "  function handleClearOutput(event, handle) {\n",
       "    const cell = handle.cell;\n",
       "\n",
       "    const id = cell.output_area._bokeh_element_id;\n",
       "    const server_id = cell.output_area._bokeh_server_id;\n",
       "    // Clean up Bokeh references\n",
       "    if (id != null && id in Bokeh.index) {\n",
       "      Bokeh.index[id].model.document.clear();\n",
       "      delete Bokeh.index[id];\n",
       "    }\n",
       "\n",
       "    if (server_id !== undefined) {\n",
       "      // Clean up Bokeh references\n",
       "      const cmd_clean = \"from bokeh.io.state import curstate; print(curstate().uuid_to_server['\" + server_id + \"'].get_sessions()[0].document.roots[0]._id)\";\n",
       "      cell.notebook.kernel.execute(cmd_clean, {\n",
       "        iopub: {\n",
       "          output: function(msg) {\n",
       "            const id = msg.content.text.trim();\n",
       "            if (id in Bokeh.index) {\n",
       "              Bokeh.index[id].model.document.clear();\n",
       "              delete Bokeh.index[id];\n",
       "            }\n",
       "          }\n",
       "        }\n",
       "      });\n",
       "      // Destroy server and session\n",
       "      const cmd_destroy = \"import bokeh.io.notebook as ion; ion.destroy_server('\" + server_id + \"')\";\n",
       "      cell.notebook.kernel.execute(cmd_destroy);\n",
       "    }\n",
       "  }\n",
       "\n",
       "  /**\n",
       "   * Handle when a new output is added\n",
       "   */\n",
       "  function handleAddOutput(event, handle) {\n",
       "    const output_area = handle.output_area;\n",
       "    const output = handle.output;\n",
       "\n",
       "    // limit handleAddOutput to display_data with EXEC_MIME_TYPE content only\n",
       "    if ((output.output_type != \"display_data\") || (!Object.prototype.hasOwnProperty.call(output.data, EXEC_MIME_TYPE))) {\n",
       "      return\n",
       "    }\n",
       "\n",
       "    const toinsert = output_area.element.find(\".\" + CLASS_NAME.split(' ')[0]);\n",
       "\n",
       "    if (output.metadata[EXEC_MIME_TYPE][\"id\"] !== undefined) {\n",
       "      toinsert[toinsert.length - 1].firstChild.textContent = output.data[JS_MIME_TYPE];\n",
       "      // store reference to embed id on output_area\n",
       "      output_area._bokeh_element_id = output.metadata[EXEC_MIME_TYPE][\"id\"];\n",
       "    }\n",
       "    if (output.metadata[EXEC_MIME_TYPE][\"server_id\"] !== undefined) {\n",
       "      const bk_div = document.createElement(\"div\");\n",
       "      bk_div.innerHTML = output.data[HTML_MIME_TYPE];\n",
       "      const script_attrs = bk_div.children[0].attributes;\n",
       "      for (let i = 0; i < script_attrs.length; i++) {\n",
       "        toinsert[toinsert.length - 1].firstChild.setAttribute(script_attrs[i].name, script_attrs[i].value);\n",
       "        toinsert[toinsert.length - 1].firstChild.textContent = bk_div.children[0].textContent\n",
       "      }\n",
       "      // store reference to server id on output_area\n",
       "      output_area._bokeh_server_id = output.metadata[EXEC_MIME_TYPE][\"server_id\"];\n",
       "    }\n",
       "  }\n",
       "\n",
       "  function register_renderer(events, OutputArea) {\n",
       "\n",
       "    function append_mime(data, metadata, element) {\n",
       "      // create a DOM node to render to\n",
       "      const toinsert = this.create_output_subarea(\n",
       "        metadata,\n",
       "        CLASS_NAME,\n",
       "        EXEC_MIME_TYPE\n",
       "      );\n",
       "      this.keyboard_manager.register_events(toinsert);\n",
       "      // Render to node\n",
       "      const props = {data: data, metadata: metadata[EXEC_MIME_TYPE]};\n",
       "      render(props, toinsert[toinsert.length - 1]);\n",
       "      element.append(toinsert);\n",
       "      return toinsert\n",
       "    }\n",
       "\n",
       "    /* Handle when an output is cleared or removed */\n",
       "    events.on('clear_output.CodeCell', handleClearOutput);\n",
       "    events.on('delete.Cell', handleClearOutput);\n",
       "\n",
       "    /* Handle when a new output is added */\n",
       "    events.on('output_added.OutputArea', handleAddOutput);\n",
       "\n",
       "    /**\n",
       "     * Register the mime type and append_mime function with output_area\n",
       "     */\n",
       "    OutputArea.prototype.register_mime_type(EXEC_MIME_TYPE, append_mime, {\n",
       "      /* Is output safe? */\n",
       "      safe: true,\n",
       "      /* Index of renderer in `output_area.display_order` */\n",
       "      index: 0\n",
       "    });\n",
       "  }\n",
       "\n",
       "  // register the mime type if in Jupyter Notebook environment and previously unregistered\n",
       "  if (root.Jupyter !== undefined) {\n",
       "    const events = require('base/js/events');\n",
       "    const OutputArea = require('notebook/js/outputarea').OutputArea;\n",
       "\n",
       "    if (OutputArea.prototype.mime_types().indexOf(EXEC_MIME_TYPE) == -1) {\n",
       "      register_renderer(events, OutputArea);\n",
       "    }\n",
       "  }\n",
       "\n",
       "  \n",
       "  if (typeof (root._bokeh_timeout) === \"undefined\" || force === true) {\n",
       "    root._bokeh_timeout = Date.now() + 5000;\n",
       "    root._bokeh_failed_load = false;\n",
       "  }\n",
       "\n",
       "  const NB_LOAD_WARNING = {'data': {'text/html':\n",
       "     \"<div style='background-color: #fdd'>\\n\"+\n",
       "     \"<p>\\n\"+\n",
       "     \"BokehJS does not appear to have successfully loaded. If loading BokehJS from CDN, this \\n\"+\n",
       "     \"may be due to a slow or bad network connection. Possible fixes:\\n\"+\n",
       "     \"</p>\\n\"+\n",
       "     \"<ul>\\n\"+\n",
       "     \"<li>re-rerun `output_notebook()` to attempt to load from CDN again, or</li>\\n\"+\n",
       "     \"<li>use INLINE resources instead, as so:</li>\\n\"+\n",
       "     \"</ul>\\n\"+\n",
       "     \"<code>\\n\"+\n",
       "     \"from bokeh.resources import INLINE\\n\"+\n",
       "     \"output_notebook(resources=INLINE)\\n\"+\n",
       "     \"</code>\\n\"+\n",
       "     \"</div>\"}};\n",
       "\n",
       "  function display_loaded() {\n",
       "    const el = document.getElementById(\"1002\");\n",
       "    if (el != null) {\n",
       "      el.textContent = \"BokehJS is loading...\";\n",
       "    }\n",
       "    if (root.Bokeh !== undefined) {\n",
       "      if (el != null) {\n",
       "        el.textContent = \"BokehJS \" + root.Bokeh.version + \" successfully loaded.\";\n",
       "      }\n",
       "    } else if (Date.now() < root._bokeh_timeout) {\n",
       "      setTimeout(display_loaded, 100)\n",
       "    }\n",
       "  }\n",
       "\n",
       "\n",
       "  function run_callbacks() {\n",
       "    try {\n",
       "      root._bokeh_onload_callbacks.forEach(function(callback) {\n",
       "        if (callback != null)\n",
       "          callback();\n",
       "      });\n",
       "    } finally {\n",
       "      delete root._bokeh_onload_callbacks\n",
       "    }\n",
       "    console.debug(\"Bokeh: all callbacks have finished\");\n",
       "  }\n",
       "\n",
       "  function load_libs(css_urls, js_urls, callback) {\n",
       "    if (css_urls == null) css_urls = [];\n",
       "    if (js_urls == null) js_urls = [];\n",
       "\n",
       "    root._bokeh_onload_callbacks.push(callback);\n",
       "    if (root._bokeh_is_loading > 0) {\n",
       "      console.debug(\"Bokeh: BokehJS is being loaded, scheduling callback at\", now());\n",
       "      return null;\n",
       "    }\n",
       "    if (js_urls == null || js_urls.length === 0) {\n",
       "      run_callbacks();\n",
       "      return null;\n",
       "    }\n",
       "    console.debug(\"Bokeh: BokehJS not loaded, scheduling load and callback at\", now());\n",
       "    root._bokeh_is_loading = css_urls.length + js_urls.length;\n",
       "\n",
       "    function on_load() {\n",
       "      root._bokeh_is_loading--;\n",
       "      if (root._bokeh_is_loading === 0) {\n",
       "        console.debug(\"Bokeh: all BokehJS libraries/stylesheets loaded\");\n",
       "        run_callbacks()\n",
       "      }\n",
       "    }\n",
       "\n",
       "    function on_error(url) {\n",
       "      console.error(\"failed to load \" + url);\n",
       "    }\n",
       "\n",
       "    for (let i = 0; i < css_urls.length; i++) {\n",
       "      const url = css_urls[i];\n",
       "      const element = document.createElement(\"link\");\n",
       "      element.onload = on_load;\n",
       "      element.onerror = on_error.bind(null, url);\n",
       "      element.rel = \"stylesheet\";\n",
       "      element.type = \"text/css\";\n",
       "      element.href = url;\n",
       "      console.debug(\"Bokeh: injecting link tag for BokehJS stylesheet: \", url);\n",
       "      document.body.appendChild(element);\n",
       "    }\n",
       "\n",
       "    for (let i = 0; i < js_urls.length; i++) {\n",
       "      const url = js_urls[i];\n",
       "      const element = document.createElement('script');\n",
       "      element.onload = on_load;\n",
       "      element.onerror = on_error.bind(null, url);\n",
       "      element.async = false;\n",
       "      element.src = url;\n",
       "      console.debug(\"Bokeh: injecting script tag for BokehJS library: \", url);\n",
       "      document.head.appendChild(element);\n",
       "    }\n",
       "  };\n",
       "\n",
       "  function inject_raw_css(css) {\n",
       "    const element = document.createElement(\"style\");\n",
       "    element.appendChild(document.createTextNode(css));\n",
       "    document.body.appendChild(element);\n",
       "  }\n",
       "\n",
       "  \n",
       "  const js_urls = [\"https://cdn.bokeh.org/bokeh/release/bokeh-2.4.2.min.js\", \"https://cdn.bokeh.org/bokeh/release/bokeh-gl-2.4.2.min.js\", \"https://cdn.bokeh.org/bokeh/release/bokeh-widgets-2.4.2.min.js\", \"https://cdn.bokeh.org/bokeh/release/bokeh-tables-2.4.2.min.js\", \"https://cdn.bokeh.org/bokeh/release/bokeh-mathjax-2.4.2.min.js\"];\n",
       "  const css_urls = [];\n",
       "  \n",
       "\n",
       "  const inline_js = [\n",
       "    function(Bokeh) {\n",
       "      Bokeh.set_log_level(\"info\");\n",
       "    },\n",
       "    function(Bokeh) {\n",
       "    \n",
       "    \n",
       "    }\n",
       "  ];\n",
       "\n",
       "  function run_inline_js() {\n",
       "    \n",
       "    if (root.Bokeh !== undefined || force === true) {\n",
       "      \n",
       "    for (let i = 0; i < inline_js.length; i++) {\n",
       "      inline_js[i].call(root, root.Bokeh);\n",
       "    }\n",
       "    if (force === true) {\n",
       "        display_loaded();\n",
       "      }} else if (Date.now() < root._bokeh_timeout) {\n",
       "      setTimeout(run_inline_js, 100);\n",
       "    } else if (!root._bokeh_failed_load) {\n",
       "      console.log(\"Bokeh: BokehJS failed to load within specified timeout.\");\n",
       "      root._bokeh_failed_load = true;\n",
       "    } else if (force !== true) {\n",
       "      const cell = $(document.getElementById(\"1002\")).parents('.cell').data().cell;\n",
       "      cell.output_area.append_execute_result(NB_LOAD_WARNING)\n",
       "    }\n",
       "\n",
       "  }\n",
       "\n",
       "  if (root._bokeh_is_loading === 0) {\n",
       "    console.debug(\"Bokeh: BokehJS loaded, going straight to plotting\");\n",
       "    run_inline_js();\n",
       "  } else {\n",
       "    load_libs(css_urls, js_urls, function() {\n",
       "      console.debug(\"Bokeh: BokehJS plotting callback run at\", now());\n",
       "      run_inline_js();\n",
       "    });\n",
       "  }\n",
       "}(window));"
      ],
      "application/vnd.bokehjs_load.v0+json": "\n(function(root) {\n  function now() {\n    return new Date();\n  }\n\n  const force = true;\n\n  if (typeof root._bokeh_onload_callbacks === \"undefined\" || force === true) {\n    root._bokeh_onload_callbacks = [];\n    root._bokeh_is_loading = undefined;\n  }\n\n  \n\n  \n  if (typeof (root._bokeh_timeout) === \"undefined\" || force === true) {\n    root._bokeh_timeout = Date.now() + 5000;\n    root._bokeh_failed_load = false;\n  }\n\n  const NB_LOAD_WARNING = {'data': {'text/html':\n     \"<div style='background-color: #fdd'>\\n\"+\n     \"<p>\\n\"+\n     \"BokehJS does not appear to have successfully loaded. If loading BokehJS from CDN, this \\n\"+\n     \"may be due to a slow or bad network connection. Possible fixes:\\n\"+\n     \"</p>\\n\"+\n     \"<ul>\\n\"+\n     \"<li>re-rerun `output_notebook()` to attempt to load from CDN again, or</li>\\n\"+\n     \"<li>use INLINE resources instead, as so:</li>\\n\"+\n     \"</ul>\\n\"+\n     \"<code>\\n\"+\n     \"from bokeh.resources import INLINE\\n\"+\n     \"output_notebook(resources=INLINE)\\n\"+\n     \"</code>\\n\"+\n     \"</div>\"}};\n\n  function display_loaded() {\n    const el = document.getElementById(\"1002\");\n    if (el != null) {\n      el.textContent = \"BokehJS is loading...\";\n    }\n    if (root.Bokeh !== undefined) {\n      if (el != null) {\n        el.textContent = \"BokehJS \" + root.Bokeh.version + \" successfully loaded.\";\n      }\n    } else if (Date.now() < root._bokeh_timeout) {\n      setTimeout(display_loaded, 100)\n    }\n  }\n\n\n  function run_callbacks() {\n    try {\n      root._bokeh_onload_callbacks.forEach(function(callback) {\n        if (callback != null)\n          callback();\n      });\n    } finally {\n      delete root._bokeh_onload_callbacks\n    }\n    console.debug(\"Bokeh: all callbacks have finished\");\n  }\n\n  function load_libs(css_urls, js_urls, callback) {\n    if (css_urls == null) css_urls = [];\n    if (js_urls == null) js_urls = [];\n\n    root._bokeh_onload_callbacks.push(callback);\n    if (root._bokeh_is_loading > 0) {\n      console.debug(\"Bokeh: BokehJS is being loaded, scheduling callback at\", now());\n      return null;\n    }\n    if (js_urls == null || js_urls.length === 0) {\n      run_callbacks();\n      return null;\n    }\n    console.debug(\"Bokeh: BokehJS not loaded, scheduling load and callback at\", now());\n    root._bokeh_is_loading = css_urls.length + js_urls.length;\n\n    function on_load() {\n      root._bokeh_is_loading--;\n      if (root._bokeh_is_loading === 0) {\n        console.debug(\"Bokeh: all BokehJS libraries/stylesheets loaded\");\n        run_callbacks()\n      }\n    }\n\n    function on_error(url) {\n      console.error(\"failed to load \" + url);\n    }\n\n    for (let i = 0; i < css_urls.length; i++) {\n      const url = css_urls[i];\n      const element = document.createElement(\"link\");\n      element.onload = on_load;\n      element.onerror = on_error.bind(null, url);\n      element.rel = \"stylesheet\";\n      element.type = \"text/css\";\n      element.href = url;\n      console.debug(\"Bokeh: injecting link tag for BokehJS stylesheet: \", url);\n      document.body.appendChild(element);\n    }\n\n    for (let i = 0; i < js_urls.length; i++) {\n      const url = js_urls[i];\n      const element = document.createElement('script');\n      element.onload = on_load;\n      element.onerror = on_error.bind(null, url);\n      element.async = false;\n      element.src = url;\n      console.debug(\"Bokeh: injecting script tag for BokehJS library: \", url);\n      document.head.appendChild(element);\n    }\n  };\n\n  function inject_raw_css(css) {\n    const element = document.createElement(\"style\");\n    element.appendChild(document.createTextNode(css));\n    document.body.appendChild(element);\n  }\n\n  \n  const js_urls = [\"https://cdn.bokeh.org/bokeh/release/bokeh-2.4.2.min.js\", \"https://cdn.bokeh.org/bokeh/release/bokeh-gl-2.4.2.min.js\", \"https://cdn.bokeh.org/bokeh/release/bokeh-widgets-2.4.2.min.js\", \"https://cdn.bokeh.org/bokeh/release/bokeh-tables-2.4.2.min.js\", \"https://cdn.bokeh.org/bokeh/release/bokeh-mathjax-2.4.2.min.js\"];\n  const css_urls = [];\n  \n\n  const inline_js = [\n    function(Bokeh) {\n      Bokeh.set_log_level(\"info\");\n    },\n    function(Bokeh) {\n    \n    \n    }\n  ];\n\n  function run_inline_js() {\n    \n    if (root.Bokeh !== undefined || force === true) {\n      \n    for (let i = 0; i < inline_js.length; i++) {\n      inline_js[i].call(root, root.Bokeh);\n    }\n    if (force === true) {\n        display_loaded();\n      }} else if (Date.now() < root._bokeh_timeout) {\n      setTimeout(run_inline_js, 100);\n    } else if (!root._bokeh_failed_load) {\n      console.log(\"Bokeh: BokehJS failed to load within specified timeout.\");\n      root._bokeh_failed_load = true;\n    } else if (force !== true) {\n      const cell = $(document.getElementById(\"1002\")).parents('.cell').data().cell;\n      cell.output_area.append_execute_result(NB_LOAD_WARNING)\n    }\n\n  }\n\n  if (root._bokeh_is_loading === 0) {\n    console.debug(\"Bokeh: BokehJS loaded, going straight to plotting\");\n    run_inline_js();\n  } else {\n    load_libs(css_urls, js_urls, function() {\n      console.debug(\"Bokeh: BokehJS plotting callback run at\", now());\n      run_inline_js();\n    });\n  }\n}(window));"
     },
     "metadata": {},
     "output_type": "display_data"
    }
   ],
   "source": [
    "from bokeh.plotting import figure\n",
    "from bokeh.layouts import layout, column\n",
    "from bokeh.models import ColumnDataSource, CustomJS, Label, Legend, LegendItem, RangeSlider, Slider, Span\n",
    "from bokeh.io import show, output_notebook\n",
    "output_notebook()\n"
   ]
  },
  {
   "cell_type": "code",
   "execution_count": 12,
   "id": "d474ea1b-4f6f-492b-a137-ab5fe45108fd",
   "metadata": {},
   "outputs": [],
   "source": [
    "def bkapp(doc):\n",
    "    min_days = 1\n",
    "    max_days = 365\n",
    "    circle_width = 15\n",
    "    xs = list(range(min_days,max_days+1))\n",
    "    ys = [prob_shared(x) for x in xs]\n",
    "    mid50 = [50 for _ in xs]\n",
    "    source = ColumnDataSource(data=dict(x=xs, y=ys, m=mid50))\n",
    "    k_value = ColumnDataSource(data=dict(x=[min_days], y=[ys[min_days]]))    \n",
    "    \n",
    "    p = figure(title=\"Same Birthday Probability\", \n",
    "               x_axis_label=r'Number of people (k)', \n",
    "               y_axis_label=r'Probability',\n",
    "               x_range=(min_days,max_days+1),\n",
    "               y_range=(0,100),\n",
    "               aspect_ratio = 2/1, # width / height\n",
    "              )\n",
    "    pline = p.line('x', 'y', source=source, \n",
    "                   legend_label=r'P same birthday',\n",
    "                   line_width=2)\n",
    "    hline = p.line('x', 'm', source=source, \n",
    "                   line_color='green',\n",
    "                   legend_label=r'50%',\n",
    "                   line_width=1)\n",
    "    vline = Span(dimension=\"height\", location=23, line_color=\"blue\", line_dash='dotdash')\n",
    "    dummy = p.line([23],[prob_shared(23)], line_color='blue', line_dash='dotdash', legend_label=\"k=23\")\n",
    "    p.add_layout(vline)\n",
    "    circle = p.circle('x', 'y', \n",
    "                      source=k_value,\n",
    "                      legend_label=r'k',\n",
    "                      color='red',\n",
    "                      alpha=0.6,\n",
    "                      size=circle_width)\n",
    "    label = Label(x=100, y=80, text=f\"P({min_days}) = {prob_shared(min_days):4.2f}\")\n",
    "    p.add_layout(label)\n",
    "    \n",
    "    def callback(attr, old, new):\n",
    "        nonlocal label\n",
    "        if (new != old):\n",
    "            k_value.data['x'] = [new]\n",
    "            k_value.data['y'] = [prob_shared(new)]\n",
    "            label.update(text=f\"P({new}) = {prob_shared(new):4.2f}\")\n",
    "                \n",
    "    slider = Slider(start=min_days, end=max_days, value=min_days, step=1, title=\"k value\")\n",
    "    slider.on_change('value', callback)\n",
    "\n",
    "    doc.add_root(column(p, slider))"
   ]
  },
  {
   "cell_type": "code",
   "execution_count": 13,
   "id": "c5625602-f3a8-40fa-9847-337b1256859b",
   "metadata": {
    "tags": []
   },
   "outputs": [
    {
     "data": {
      "application/vnd.bokehjs_exec.v0+json": "",
      "text/html": [
       "\n",
       "<script id=\"1003\">\n",
       "  (function() {\n",
       "    const xhr = new XMLHttpRequest()\n",
       "    xhr.responseType = 'blob';\n",
       "    xhr.open('GET', \"http://localhost:44319/autoload.js?bokeh-autoload-element=1003&bokeh-absolute-url=http://localhost:44319&resources=none\", true);\n",
       "    \n",
       "    xhr.onload = function (event) {\n",
       "      const script = document.createElement('script');\n",
       "      const src = URL.createObjectURL(event.target.response);\n",
       "      script.src = src;\n",
       "      document.body.appendChild(script);\n",
       "    };\n",
       "    xhr.send();\n",
       "  })();\n",
       "</script>"
      ]
     },
     "metadata": {
      "application/vnd.bokehjs_exec.v0+json": {
       "server_id": "9a61fbb33ef14117ba544742b4688012"
      }
     },
     "output_type": "display_data"
    }
   ],
   "source": [
    "show(bkapp)"
   ]
  },
  {
   "cell_type": "code",
   "execution_count": 14,
   "id": "25c70f25-8282-406b-9ce9-765e04e51465",
   "metadata": {},
   "outputs": [
    {
     "data": {
      "text/plain": [
       "0"
      ]
     },
     "execution_count": 14,
     "metadata": {},
     "output_type": "execute_result"
    }
   ],
   "source": [
    "prob_shared(1)"
   ]
  },
  {
   "cell_type": "code",
   "execution_count": 15,
   "id": "07cec122-b3bc-4a7f-a057-fc4296ec423b",
   "metadata": {},
   "outputs": [
    {
     "data": {
      "text/plain": [
       "'$k=23$'"
      ]
     },
     "execution_count": 15,
     "metadata": {},
     "output_type": "execute_result"
    }
   ],
   "source": [
    "p23.get_label()"
   ]
  },
  {
   "cell_type": "code",
   "execution_count": 16,
   "id": "c3c6b185-99b3-4ce7-ae8f-3f5bed927db2",
   "metadata": {},
   "outputs": [
    {
     "name": "stdout",
     "output_type": "stream",
     "text": [
      "50.72972343239854\n"
     ]
    }
   ],
   "source": [
    "print(prob_shared(23))"
   ]
  },
  {
   "cell_type": "markdown",
   "id": "a0746dd6-31db-491a-86e5-4507d7abfa5f",
   "metadata": {
    "tags": []
   },
   "source": [
    "### Labeling objects\n",
    "\n",
    "Counting the events of a sample space can be tricky. Two events might look similar and could, therefore, be counted once instead of twice. For instance, when tossing two coins, we might reason that there are three outcomes: two heads, two tails, and a head and a tail. This is incorrect, because there are two ways to throw a head and a tail with two coins. Labeling the coins helps describing the two ways. If we label the coins $A$ and $B$, then both $A=\\text{head}$, $B=\\text{tail}$ and $A=\\text{tail}$, $B=\\text{head}$ establish the event \"a head and a tail\". It is clear that these outcomes are not the same and, indeed, there are four possible outcomes for tossing two coins."
   ]
  },
  {
   "cell_type": "markdown",
   "id": "4a5d72c0-b442-479d-b4dd-913e38c1a91c",
   "metadata": {
    "tags": []
   },
   "source": [
    "> **Example 1.4.10** (Leibniz’s mistake). If we roll two fair dice, which is more likely: a sum of 11 or a sum of 12?\n",
    "\n",
    "Let's call the dice $A$ and $B$. To add up to $11$, there are two possibilities: $A=5$, $B=6$ and $A=6$, $B=5$. To add up to $12$, there is only one possibility: $A=B=6$. Suppose the total number of outcomes for rolling two dice is $N$. Then the (naive) probability of a sum of $11$ is $\\frac{2}{N}$ and the probability of a sum of $12$ is $\\frac{1}{N}$. Therefore, the probability of a sum of $11$ is twice as high as the probability of a sum of $11$.\n",
    "\n",
    "If we want to compute the numeric value of the probabilities, we need to know the value of $N$, the number of possible outcomes. One dice has $6$ possible outcomes and each outcome is equally likely. So, using the multiplication rule we find that there are $36$ possible outcomes. Consequently, the probability of a sum of $11$ is $\\frac{2}{36}$ and the probability of a sum of $12$ is $\\frac{1}{36}$.\n",
    "\n",
    "This example is called Leibniz's mistake, because he reasoned that the probabilities of a sum of $11$ and of a sum of $12$ had to be equal. He claimed that a sum of $11$ can only be achieved by rolling a $5$ and a $6$ and, \"therefore\" there is only one posible outcome. Rolling two dice with a sum of $12$ can only be achieved if both are a $6$ and therefore also here there is only one possible outcome. Therefore, the possibilities for these events should be the same. The mistake is that he did not distiguish the outcome $A=5,B=6$ from the outcome $A=6,B=5$. "
   ]
  },
  {
   "cell_type": "code",
   "execution_count": 17,
   "id": "fdb72055-5da7-4821-bc58-b0d981e93713",
   "metadata": {},
   "outputs": [
    {
     "name": "stdout",
     "output_type": "stream",
     "text": [
      "number of samples: 100\n",
      "    number 11-sums: 5, number 12-sums: 3\n",
      "    frequency 11-sums: 0.05, frequency 12-sums: 0.03\n",
      "number of samples: 200\n",
      "    number 11-sums: 5, number 12-sums: 11\n",
      "    frequency 11-sums: 0.025, frequency 12-sums: 0.055\n",
      "number of samples: 500\n",
      "    number 11-sums: 22, number 12-sums: 11\n",
      "    frequency 11-sums: 0.044, frequency 12-sums: 0.022\n",
      "number of samples: 1000\n",
      "    number 11-sums: 49, number 12-sums: 25\n",
      "    frequency 11-sums: 0.049, frequency 12-sums: 0.025\n",
      "number of samples: 1500\n",
      "    number 11-sums: 88, number 12-sums: 43\n",
      "    frequency 11-sums: 0.058666666666666666, frequency 12-sums: 0.028666666666666667\n",
      "number of samples: 2000\n",
      "    number 11-sums: 131, number 12-sums: 62\n",
      "    frequency 11-sums: 0.0655, frequency 12-sums: 0.031\n",
      "number of samples: 5000\n",
      "    number 11-sums: 264, number 12-sums: 123\n",
      "    frequency 11-sums: 0.0528, frequency 12-sums: 0.0246\n",
      "number of samples: 10000\n",
      "    number 11-sums: 520, number 12-sums: 287\n",
      "    frequency 11-sums: 0.052, frequency 12-sums: 0.0287\n"
     ]
    }
   ],
   "source": [
    "# Experimental computation of sum 11 and sum 12 probabilities.\n",
    "from random import randint\n",
    "\n",
    "# perform several simulations each with a different number, K, of samples.\n",
    "for K in [100, 200, 500, 1000, 1500, 2000, 5000, 10000]:\n",
    "    samples = [(randint(1,6), randint(1,6)) for _ in range(K)]\n",
    "    num_sum_11 = len([e for e in samples if e[0] + e[1] == 11])\n",
    "    num_sum_12 = len([e for e in samples if e[0] + e[1] == 12])\n",
    "    print(f\"number of samples: {K}\")\n",
    "    print(f\"    number 11-sums: {num_sum_11}, number 12-sums: {num_sum_12}\")\n",
    "    print(f\"    frequency 11-sums: {num_sum_11/K}, frequency 12-sums: {num_sum_12/K}\")"
   ]
  },
  {
   "cell_type": "markdown",
   "id": "2f3fbe8b-6ad6-496b-ac7c-80657d719897",
   "metadata": {},
   "source": []
  }
 ],
 "metadata": {
  "kernelspec": {
   "display_name": "Python 3",
   "language": "python",
   "name": "python3"
  },
  "language_info": {
   "codemirror_mode": {
    "name": "ipython",
    "version": 3
   },
   "file_extension": ".py",
   "mimetype": "text/x-python",
   "name": "python",
   "nbconvert_exporter": "python",
   "pygments_lexer": "ipython3",
   "version": "3.8.0"
  }
 },
 "nbformat": 4,
 "nbformat_minor": 5
}
