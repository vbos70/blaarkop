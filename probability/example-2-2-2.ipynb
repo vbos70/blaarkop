{
 "cells": [
  {
   "cell_type": "markdown",
   "id": "5acdd096-bbac-4ddf-96f3-8e4fec8194ec",
   "metadata": {},
   "source": [
    "# Two Cards\n",
    "\n",
    "Based on Example 2.2.2 in [Introduction to Probability](https://learning.oreilly.com/api/v1/continue/9781466575578/).\n",
    "\n",
    "A standard deck of cards has 13 Hearts (red), 13 Diamonds (red), 13 Spades (black), and 13 Clubs (black). Assume it is shuffled. Two cards are drawn randomly without replacement. Let A be the event that the first card is a Heart, and B be the event that the second card is red. Find the conditial probabilities of A, given B and of B, given A. I.e., find P(A|B) and P(B|A).\n",
    "\n",
    "## Model\n",
    "\n",
    "A deck of card has four suits: Hearts, Diamonds, Spades, and Clubs. Each suit has 13 *ranks*: Ace, 2, 3, ..., 10, Jack, Queen, and King. However, card rank does not occur in the problem description above, so we model a deck just as a set of pairs (s, v) where s is the suit and v is a number in the range 0, 1, .., 12."
   ]
  },
  {
   "cell_type": "code",
   "execution_count": 26,
   "id": "4604e4ee-6753-48e9-a6ff-063b5da9b333",
   "metadata": {},
   "outputs": [],
   "source": [
    "from collections import namedtuple\n",
    "from enum import Enum\n",
    "\n",
    "Suits = Enum('Suits', 'Diamonds Hearts Clubs Spades')\n",
    "Card = namedtuple('Card', ['suit', 'value'])\n",
    "\n",
    "CardDeck = {Card(suit=s, value=n) for s in Suits for n in range(13)}"
   ]
  },
  {
   "cell_type": "markdown",
   "id": "f987a82b-8135-4a29-b11d-26a2422cb729",
   "metadata": {},
   "source": [
    "### Events\n",
    "\n",
    "The events consist of randomly drawing two cards without replacement. We model events as pairs (c0, c1).  "
   ]
  },
  {
   "cell_type": "code",
   "execution_count": 27,
   "id": "48616675-192d-4caf-ae88-0ef37084ec5e",
   "metadata": {},
   "outputs": [],
   "source": [
    "Event = namedtuple('Event', ['card0', 'card1'])"
   ]
  },
  {
   "cell_type": "markdown",
   "id": "93f11c2e-03c3-4a07-9d98-1501d17b7476",
   "metadata": {},
   "source": [
    "The function `show` can be used to print `Card` and `Event` objects as human readable strings."
   ]
  },
  {
   "cell_type": "code",
   "execution_count": 28,
   "id": "649f1ddc-0e45-45a1-b4eb-69d77793de36",
   "metadata": {},
   "outputs": [],
   "source": [
    "from typing import Union\n",
    "def show(x: Union[Card, Event]) -> str:\n",
    "    '''Return a human readable str of x, where x is a Card or Event.\n",
    "    \n",
    "    If x is not a Card of Event, str(x) is returned.\n",
    "    '''\n",
    "    if type(x) == Card:\n",
    "        return f\"{x.suit.name}-{x.value}\"\n",
    "    elif type(x) == Event:\n",
    "        return f\"({show(x.card0)},{show(x.card1)})\"\n",
    "    return str(x)"
   ]
  },
  {
   "cell_type": "markdown",
   "id": "fec1547a-b024-4f7f-b6b5-4c3db1de7d1b",
   "metadata": {},
   "source": [
    "### Universe\n",
    "\n",
    "To compute probabilities, the first step is to specify the *universe* of events. Since we are asked to compute the probabilities of certain events where two cards are drawn without replacement, the universe consists of all possibilities to draw two cards without replacement. We create the universe `E: set` by constructing a set of all possible pairs of cards drawn from `CardDeck` without replacements (i.e., the cards in a pair cannot be the same)."
   ]
  },
  {
   "cell_type": "code",
   "execution_count": 29,
   "id": "b52cdc0c-91fc-4484-8382-d8c2092ad422",
   "metadata": {},
   "outputs": [],
   "source": [
    "E = {Event(card0=c0, card1=c1) for c0 in CardDeck for c1 in CardDeck if c0 != c1}"
   ]
  },
  {
   "cell_type": "code",
   "execution_count": 30,
   "id": "19011bfc-b019-45ef-8b96-2d6905ef5da0",
   "metadata": {},
   "outputs": [],
   "source": [
    "# some sanity checks\n",
    "\n",
    "# The first card is never equal to the second card\n",
    "assert all(e.card0 != e.card1 for e in E)\n",
    "\n",
    "# There should be exactly 52 * 51 events in E\n",
    "assert len(E) == 52 * 51"
   ]
  },
  {
   "cell_type": "markdown",
   "id": "4ba4fe05-446a-4988-91ca-8d73d4882f96",
   "metadata": {},
   "source": [
    "Recall that A is the event where the first card is a Heart and B is the event where the second card is red. A and B are modelled as sub-sets of E such the elements in A have a Heart as the first card and the elements in B have a red second card."
   ]
  },
  {
   "cell_type": "code",
   "execution_count": 31,
   "id": "1569b3e2-b5a9-45cd-808b-58c2c2cff3ca",
   "metadata": {},
   "outputs": [],
   "source": [
    "A_prop = lambda e: e.card0.suit == Suits.Hearts\n",
    "A = { e for e in E if  A_prop(e)}\n",
    "B_prop = lambda e: e.card1.suit in {Suits.Hearts, Suits.Diamonds}\n",
    "B = { e for e in E if B_prop(e) }"
   ]
  },
  {
   "cell_type": "markdown",
   "id": "d2c0ae21-3003-47a8-8101-d6e1243617e6",
   "metadata": {},
   "source": [
    "The probability of A can be computed by dividing the number of elements in A by the number of elements in E. That is, the probability of A is the ratio |A| / |E|, where |.| gives the number of elements in a set. "
   ]
  },
  {
   "cell_type": "code",
   "execution_count": 32,
   "id": "60e59342-817f-41fb-a8e5-c5240dc9b1cd",
   "metadata": {},
   "outputs": [
    {
     "name": "stdout",
     "output_type": "stream",
     "text": [
      "Help on function prob in module utils:\n",
      "\n",
      "prob(E: set, S: set) -> fractions.Fraction\n",
      "    Return the probability of event E in the universe S.\n",
      "    \n",
      "    Assumption: E and S are sets and E is a sub-set of S.\n",
      "    \n",
      "        E: set The event modelled as a subset of S.\n",
      "    \n",
      "        S: set The universe of all events.\n",
      "\n"
     ]
    }
   ],
   "source": [
    "from utils import prob\n",
    "help(prob)"
   ]
  },
  {
   "cell_type": "code",
   "execution_count": 33,
   "id": "164c109d-f602-4548-b022-c3e4676faa74",
   "metadata": {
    "tags": []
   },
   "outputs": [
    {
     "name": "stdout",
     "output_type": "stream",
     "text": [
      "1/4\n",
      "1/2\n"
     ]
    }
   ],
   "source": [
    "print(prob(A, E))\n",
    "print(prob(B, E))"
   ]
  },
  {
   "cell_type": "markdown",
   "id": "0b73d2c5-c892-4908-9e28-dd7dcd919795",
   "metadata": {},
   "source": [
    "Finally, we can compute the conditional probabilities P(A|B) and P(B|A) requested above."
   ]
  },
  {
   "cell_type": "code",
   "execution_count": 34,
   "id": "121e0dee-a910-4f11-a620-76268b53aedb",
   "metadata": {},
   "outputs": [
    {
     "name": "stdout",
     "output_type": "stream",
     "text": [
      "Help on function cprob in module utils:\n",
      "\n",
      "cprob(E: set, C: set, S: set) -> fractions.Fraction\n",
      "    Return the probability of event E conditioned on C in the universe S.\n",
      "    \n",
      "    Assumption: E, C, and S are sets and both E and C are sub-sets of S.\n",
      "    \n",
      "        E: set The event modelled as a subset of S.\n",
      "    \n",
      "        C: set The condition-event modelled as a subset of S.\n",
      "    \n",
      "        S: set The universe of all events.\n",
      "\n"
     ]
    }
   ],
   "source": [
    "from utils import cprob\n",
    "help(cprob)"
   ]
  },
  {
   "cell_type": "code",
   "execution_count": 35,
   "id": "9333e71b-3fd5-438c-b650-bdd3d28d824b",
   "metadata": {},
   "outputs": [
    {
     "name": "stdout",
     "output_type": "stream",
     "text": [
      "25/102\n",
      "25/51\n"
     ]
    }
   ],
   "source": [
    "print(cprob(A, B, E))\n",
    "print(cprob(B, A, E))"
   ]
  },
  {
   "cell_type": "markdown",
   "id": "a6bebe38-0aab-49f3-88cd-1183bfde43ab",
   "metadata": {},
   "source": [
    "### Simulation"
   ]
  },
  {
   "cell_type": "markdown",
   "id": "f30314cd-4430-471e-bb5c-a65c01a82498",
   "metadata": {},
   "source": [
    "In order to validate the exact probability computations, it makes sense to develop simulation experiments where cards are actually drawn from the deck in order to see if event A or B or both occurred. If an experiment for event A is done many times, say N>1000, the expectation is that the ratio of \"the number of times A happened\" over N approximates the probability P(A). The probability of any event can be approximated by simulation, provided we can simulate the event. \n",
    "\n",
    "To draw events without replacement, we create a function `pick_events(E,n)`. `E` is a set-like object (Iterable) and `n` is the number of events to pick. The function creates a generator instead of computing the drawn events immediately."
   ]
  },
  {
   "cell_type": "code",
   "execution_count": 11,
   "id": "7283cf5b-8d8a-4b1f-b0d2-49d86aa27dcb",
   "metadata": {},
   "outputs": [],
   "source": [
    "import random\n",
    "\n",
    "def pick_events(E, n):\n",
    "    F = [e for e in E]\n",
    "    while n>0:\n",
    "        if len(F) == 0:\n",
    "            raise ValueError(\"Not enough elements\")\n",
    "        n -= 1\n",
    "        e = random.choice(F)\n",
    "        F.remove(e)\n",
    "        yield e"
   ]
  },
  {
   "cell_type": "markdown",
   "id": "3965fdc4-3de5-455c-b422-f87816fc663c",
   "metadata": {},
   "source": [
    "To use the function `pick_events`, we loop over all elements its generator provides:"
   ]
  },
  {
   "cell_type": "code",
   "execution_count": 12,
   "id": "95eccb3d-cc54-4289-9858-b2dfaf04d627",
   "metadata": {},
   "outputs": [],
   "source": [
    "def pick1(E):\n",
    "    '''Helper function to randomly pick one event.'''\n",
    "    for e in pick_events(E, 1):\n",
    "        return e"
   ]
  },
  {
   "cell_type": "code",
   "execution_count": 13,
   "id": "7191067e-1442-49b3-85e3-adcd78576880",
   "metadata": {},
   "outputs": [],
   "source": [
    "e0 = pick1(E)"
   ]
  },
  {
   "cell_type": "code",
   "execution_count": 14,
   "id": "ef482dda-5b94-42a7-b79c-8bd7004dd513",
   "metadata": {},
   "outputs": [
    {
     "name": "stdout",
     "output_type": "stream",
     "text": [
      "(Hearts-2,Spades-10)\n"
     ]
    }
   ],
   "source": [
    "print(show(e0))"
   ]
  },
  {
   "cell_type": "code",
   "execution_count": 15,
   "id": "10c49f25-b50d-40bf-9323-bdf140bb200a",
   "metadata": {},
   "outputs": [
    {
     "name": "stdout",
     "output_type": "stream",
     "text": [
      "(Hearts-10,Clubs-0)\n",
      "(Hearts-7,Hearts-2)\n",
      "(Hearts-7,Spades-3)\n",
      "(Hearts-9,Clubs-7)\n",
      "(Clubs-5,Hearts-8)\n"
     ]
    }
   ],
   "source": [
    "for i in range(5):\n",
    "    print(\"\\n\".join([show(e) for e in pick_events(E, 1)]))  "
   ]
  },
  {
   "cell_type": "code",
   "execution_count": 16,
   "id": "7f7a9c61-0a1e-4a7e-b0d7-86594e074303",
   "metadata": {},
   "outputs": [],
   "source": [
    "def sample_iter(E, n=1000):\n",
    "    yield from (pick1(E) for _ in range(n))"
   ]
  },
  {
   "cell_type": "code",
   "execution_count": 17,
   "id": "8538e531-3b86-4350-a407-c81e38378c1d",
   "metadata": {},
   "outputs": [],
   "source": [
    "from fractions import Fraction\n",
    "\n",
    "def exp_prob(prop, E, samples):\n",
    "    return Fraction(len({s for s in samples if prop(s)}), len(samples))"
   ]
  },
  {
   "cell_type": "code",
   "execution_count": 53,
   "id": "5b7532e4-51fc-4274-aade-4eeec60e83f0",
   "metadata": {},
   "outputs": [],
   "source": [
    "samples = { s for s in sample_iter(E, 1000)}"
   ]
  },
  {
   "cell_type": "markdown",
   "id": "93c3a126-3df3-4607-93cb-e8a71e122d73",
   "metadata": {},
   "source": [
    "The `samples` will be used as the universe. With this new universe, we can compute the \"experimental probability of A\" Aexp and the \"experimental probability of B\" Bexp. First Aexp and Bexp are defined as the sub-sets of `samples` for which `A_prop` and `B_prop` hold, respectively. Then we use `prop` to compute the probabilities."
   ]
  },
  {
   "cell_type": "code",
   "execution_count": 54,
   "id": "fe6535f4-450c-4d3b-bc74-e5e1f9ed30bc",
   "metadata": {},
   "outputs": [],
   "source": [
    "Aexp = {e for e in samples if A_prop(e)}\n",
    "Bexp = {e for e in samples if B_prop(e)}"
   ]
  },
  {
   "cell_type": "code",
   "execution_count": 55,
   "id": "705bb345-0247-4a7a-b153-8ad771c444f2",
   "metadata": {},
   "outputs": [
    {
     "name": "stdout",
     "output_type": "stream",
     "text": [
      "187/834\n",
      "427/834\n"
     ]
    }
   ],
   "source": [
    "print(prob(Aexp, samples))\n",
    "print(prob(Bexp, samples))"
   ]
  },
  {
   "cell_type": "markdown",
   "id": "a9616c0a-1677-4829-ab9b-35d56862837c",
   "metadata": {},
   "source": [
    "Similarly, the experimental conditional probabilities P(Aexp|Bexp) and P(Bexp|Aexp) can be computed."
   ]
  },
  {
   "cell_type": "code",
   "execution_count": 56,
   "id": "23daa25a-ff58-4546-85b2-3f8e3de30061",
   "metadata": {},
   "outputs": [
    {
     "name": "stdout",
     "output_type": "stream",
     "text": [
      "92/427\n",
      "92/187\n"
     ]
    }
   ],
   "source": [
    "print(cprob(Aexp, Bexp, samples))\n",
    "print(cprob(Bexp, Aexp, samples))      "
   ]
  },
  {
   "cell_type": "markdown",
   "id": "2d6c211d-301c-4657-a386-32b93b108412",
   "metadata": {},
   "source": [
    "Let's run a new experiment with more samples."
   ]
  },
  {
   "cell_type": "code",
   "execution_count": 78,
   "id": "2c8fcb44-d8b3-4924-b1f9-3ced096a538f",
   "metadata": {},
   "outputs": [],
   "source": [
    "samples = { s for s in sample_iter(E, 50000)}"
   ]
  },
  {
   "cell_type": "code",
   "execution_count": 79,
   "id": "8e25da6f-b766-440a-a0bb-3f67b702dd1b",
   "metadata": {},
   "outputs": [],
   "source": [
    "Aexp = {e for e in samples if A_prop(e)}\n",
    "Bexp = {e for e in samples if B_prop(e)}"
   ]
  },
  {
   "cell_type": "code",
   "execution_count": 80,
   "id": "c0f61fad-a79c-40c0-bce4-7fbd6ad253d6",
   "metadata": {},
   "outputs": [
    {
     "name": "stdout",
     "output_type": "stream",
     "text": [
      "1/4\n",
      "1/2\n"
     ]
    }
   ],
   "source": [
    "print(prob(Aexp, samples))\n",
    "print(prob(Bexp, samples))"
   ]
  },
  {
   "cell_type": "code",
   "execution_count": 81,
   "id": "efb0a623-5d4d-4bd6-95cf-4c26425fe08d",
   "metadata": {},
   "outputs": [
    {
     "name": "stdout",
     "output_type": "stream",
     "text": [
      "25/102\n",
      "25/51\n"
     ]
    }
   ],
   "source": [
    "print(cprob(Aexp, Bexp, samples))\n",
    "print(cprob(Bexp, Aexp, samples))      "
   ]
  },
  {
   "cell_type": "markdown",
   "id": "7f972a40-9911-4077-8bc2-09cb6be89c3d",
   "metadata": {},
   "source": [
    "Print the probabilities as floats and compare to P(A), P(B), P(A|B), and P(B|A)."
   ]
  },
  {
   "cell_type": "code",
   "execution_count": 73,
   "id": "6df6f143-8ff0-44b6-b8da-3c6af16108ad",
   "metadata": {},
   "outputs": [
    {
     "name": "stdout",
     "output_type": "stream",
     "text": [
      "P(A)    = 0.25\n",
      "P(Aexp) = 0.249811320754717\n",
      "P(B)    = 0.5\n",
      "P(Bexp) = 0.499622641509434\n",
      "P(A|B)       = 0.24509803921568626\n",
      "P(Aexp|Bexp) = 0.24471299093655588\n",
      "P(B|A)       = 0.49019607843137253\n",
      "P(Bexp|Aexp) = 0.48942598187311176\n"
     ]
    }
   ],
   "source": [
    "print(f\"P(A)    = {float(prob(A, E))}\")\n",
    "print(f\"P(Aexp) = {float(prob(Aexp, samples))}\")\n",
    "\n",
    "print(f\"P(B)    = {float(prob(B, E))}\")\n",
    "print(f\"P(Bexp) = {float(prob(Bexp, samples))}\")\n",
    "\n",
    "print(f\"P(A|B)       = {float(cprob(A, B, E))}\")\n",
    "print(f\"P(Aexp|Bexp) = {float(cprob(Aexp, Bexp, samples))}\")\n",
    "\n",
    "print(f\"P(B|A)       = {float(cprob(B, A, E))}\")\n",
    "print(f\"P(Bexp|Aexp) = {float(cprob(Bexp, Aexp, samples))}\")"
   ]
  },
  {
   "cell_type": "code",
   "execution_count": null,
   "id": "51db54f0-09a8-4d8a-beb2-95a4f52d06b9",
   "metadata": {},
   "outputs": [],
   "source": []
  }
 ],
 "metadata": {
  "kernelspec": {
   "display_name": "Python 3",
   "language": "python",
   "name": "python3"
  },
  "language_info": {
   "codemirror_mode": {
    "name": "ipython",
    "version": 3
   },
   "file_extension": ".py",
   "mimetype": "text/x-python",
   "name": "python",
   "nbconvert_exporter": "python",
   "pygments_lexer": "ipython3",
   "version": "3.8.0"
  }
 },
 "nbformat": 4,
 "nbformat_minor": 5
}
